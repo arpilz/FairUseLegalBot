{
 "cells": [
  {
   "cell_type": "code",
   "execution_count": 16,
   "metadata": {},
   "outputs": [],
   "source": [
    "import os \n",
    "from dotenv import load_dotenv\n",
    "from sentence_transformers import SentenceTransformer\n",
    "from neo4j import GraphDatabase\n",
    "import re\n",
    "from typing import List\n",
    "import time\n",
    "import polars as pl\n",
    "from util import chunk_text\n",
    "\n",
    "def remove_html_tags(text):\n",
    "    clean = re.sub(r'<.*?>', '', text)\n",
    "    return clean\n",
    "\n",
    "URI = \"bolt://localhost:7687\"\n",
    "AUTH = (\"neo4j\", \"fairusecases\")\n",
    "\n",
    "load_dotenv()\n",
    "\n",
    "    \n",
    "class Custom_Embeddings:\n",
    "    def __init__(self):\n",
    "        self.model = SentenceTransformer('sentence-transformers/all-MiniLM-L6-v2', token = os.environ[\"HUGGING_FACE\"])\n",
    "    \n",
    "    def embed_documents(self, texts: List[str]) -> List[List[float]]:\n",
    "        return [self.model.encode(t)[0] for t in texts]\n",
    "            \n",
    "    def embed_query(self, query: str) -> List[float]:\n",
    "        return self.model.encode([query])[0]"
   ]
  },
  {
   "cell_type": "code",
   "execution_count": 17,
   "metadata": {},
   "outputs": [],
   "source": [
    "def get_all_parts(tx):\n",
    "    result = tx.run(\"\"\"\n",
    "        MATCH (c:Case)-[:HAS_OPINION]-(o:Opinion)-[:OF]-(f)\n",
    "        RETURN c.WestLawCaseName AS WestLawCaseName, f.Document AS Document, Labels(f) AS Label\n",
    "        \"\"\"\n",
    "    )\n",
    "\n",
    "    return result.to_df()\n",
    "\n",
    "with GraphDatabase.driver(URI, auth=AUTH) as driver:\n",
    "    with driver.session(database=\"neo4j\") as session:\n",
    "            df = session.execute_read(get_all_parts)"
   ]
  },
  {
   "cell_type": "code",
   "execution_count": 18,
   "metadata": {},
   "outputs": [],
   "source": [
    "df = pl.from_pandas(df)\n",
    "embedder = Custom_Embeddings()\n",
    "\n",
    "df = df.with_columns(\n",
    "    pl.col(\"Label\").map_elements(lambda x: x[0])\n",
    ").with_columns(\n",
    "    pl.col(\"Document\").map_elements(lambda x: chunk_text(remove_html_tags(x))).alias(\"Chunks\")\n",
    ").explode(\"Chunks\")"
   ]
  },
  {
   "cell_type": "code",
   "execution_count": null,
   "metadata": {},
   "outputs": [],
   "source": [
    "df = df.with_columns(\n",
    "    pl.col(\"Chunks\").map_elements(embedder.embed_query).alias(\"Embeddings\")\n",
    ").with_columns( pl.col(\"Chunks\").map_elements(len).alias(\"CLen\") ).filter(pl.col(\"CLen\") > 25)"
   ]
  },
  {
   "cell_type": "code",
   "execution_count": 5,
   "metadata": {},
   "outputs": [],
   "source": [
    "df = df.filter( pl.col(\"Chunks\").is_not_null() )"
   ]
  },
  {
   "cell_type": "code",
   "execution_count": 6,
   "metadata": {},
   "outputs": [],
   "source": [
    "def set_mini_embeddings(tx, ob):\n",
    "    result = tx.run(\"\"\"\n",
    "        MATCH (c:Case {WestLawCaseName: $WestLawCaseName})-[:HAS_OPINION]-(o:Opinion)-[:OF]-(f {Document: $Document})\n",
    "        MERGE (ch:Chunk {Document: $Chunks, MiniEmbedding : $MiniEmbedding})\n",
    "        MERGE (f)-[:FROM]-(ch)\n",
    "        \"\"\", WestLawCaseName = ob[\"WestLawCaseName\"], Label = ob[\"Label\"], Document = ob[\"Document\"], Chunks = ob[\"Chunks\"], MiniEmbedding = ob[\"Embeddings\"]\n",
    "    )\n",
    "\n",
    "    return result\n",
    "\n",
    "obs = df.iter_rows(named=True)\n",
    "\n",
    "with GraphDatabase.driver(URI, auth=AUTH) as driver:\n",
    "    with driver.session(database=\"neo4j\") as session:\n",
    "            for ob in obs:\n",
    "                session.execute_write(set_mini_embeddings, ob)"
   ]
  },
  {
   "cell_type": "code",
   "execution_count": 75,
   "metadata": {},
   "outputs": [],
   "source": [
    "def get_unembedded_gemini(tx):\n",
    "    result = tx.run(\"\"\"\n",
    "        MATCH (n:Chunk)\n",
    "        WHERE n.GeminiEmbeddings IS NULL\n",
    "        RETURN n.Document AS Chunks\n",
    "        \"\"\"\n",
    "    )\n",
    "\n",
    "    return result.to_df()\n",
    "\n",
    "with GraphDatabase.driver(URI, auth=AUTH) as driver:\n",
    "    with driver.session(database=\"neo4j\") as session:\n",
    "            df = session.execute_read(get_unembedded_gemini)"
   ]
  },
  {
   "cell_type": "code",
   "execution_count": null,
   "metadata": {},
   "outputs": [],
   "source": [
    "df = pl.from_pandas(df)\n",
    "df.describe"
   ]
  },
  {
   "cell_type": "code",
   "execution_count": 78,
   "metadata": {},
   "outputs": [],
   "source": [
    "from google import genai\n",
    "import time\n",
    "\n",
    "client = genai.Client(api_key=os.environ[\"GEMINI_API\"])\n",
    "\n",
    "def embed_document(text, client = client):\n",
    "\n",
    "    result = client.models.embed_content(\n",
    "            model=\"text-embedding-004\",\n",
    "            contents=text)\n",
    "    \n",
    "    time.sleep(.5)\n",
    "\n",
    "    return list(result.embeddings[0])[0][1]"
   ]
  },
  {
   "cell_type": "code",
   "execution_count": 79,
   "metadata": {},
   "outputs": [],
   "source": [
    "def set_gemini_embeddings(tx, ob, embedding):\n",
    "    result = tx.run(\"\"\"\n",
    "        MATCH (ch:Chunk {Document: $Chunks})\n",
    "        SET ch.GeminiEmbeddings = $embedding\n",
    "        \"\"\", Chunks = ob[\"Chunks\"], embedding = embedding\n",
    "    )\n",
    "\n",
    "    return result"
   ]
  },
  {
   "cell_type": "code",
   "execution_count": 80,
   "metadata": {},
   "outputs": [],
   "source": [
    "obs = df.iter_rows(named=True)\n",
    "\n",
    "with GraphDatabase.driver(URI, auth=AUTH) as driver:\n",
    "    with driver.session(database=\"neo4j\") as session:\n",
    "            for ob in obs:\n",
    "                embedding = embed_document(ob[\"Chunks\"])\n",
    "                session.execute_write(set_gemini_embeddings, ob, embedding)"
   ]
  },
  {
   "cell_type": "code",
   "execution_count": null,
   "metadata": {},
   "outputs": [],
   "source": [
    "def create_mini_vector_index(tx):\n",
    "    tx.run(\"\"\"\n",
    "        CREATE VECTOR INDEX MiniEmbeddingIndex IF NOT EXISTS\n",
    "        FOR (c:Chunk)\n",
    "        ON c.MiniEmbedding\n",
    "        OPTIONS { indexConfig: {\n",
    "        `vector.dimensions`: 384,\n",
    "        `vector.similarity_function`: 'cosine'\n",
    "        }}\n",
    "        \"\"\"\n",
    "    )\n",
    "\n",
    "with GraphDatabase.driver(URI, auth=AUTH) as driver:\n",
    "    with driver.session(database=\"neo4j\") as session:\n",
    "            session.execute_write(create_mini_vector_index)"
   ]
  },
  {
   "cell_type": "code",
   "execution_count": null,
   "metadata": {},
   "outputs": [],
   "source": [
    "def create_gemini_vector_index(tx):\n",
    "    tx.run(\"\"\"\n",
    "        CREATE VECTOR INDEX GeminiEmbeddingIndex IF NOT EXISTS\n",
    "        FOR (c:Chunk)\n",
    "        ON c.GeminiEmbeddings\n",
    "        OPTIONS { indexConfig: {\n",
    "        `vector.dimensions`: 768,\n",
    "        `vector.similarity_function`: 'cosine'\n",
    "        }}\n",
    "        \"\"\"\n",
    "    )\n",
    "\n",
    "with GraphDatabase.driver(URI, auth=AUTH) as driver:\n",
    "    with driver.session(database=\"neo4j\") as session:\n",
    "            session.execute_write(create_gemini_vector_index)"
   ]
  }
 ],
 "metadata": {
  "kernelspec": {
   "display_name": "Python 3",
   "language": "python",
   "name": "python3"
  },
  "language_info": {
   "codemirror_mode": {
    "name": "ipython",
    "version": 3
   },
   "file_extension": ".py",
   "mimetype": "text/x-python",
   "name": "python",
   "nbconvert_exporter": "python",
   "pygments_lexer": "ipython3",
   "version": "3.9.6"
  }
 },
 "nbformat": 4,
 "nbformat_minor": 2
}
