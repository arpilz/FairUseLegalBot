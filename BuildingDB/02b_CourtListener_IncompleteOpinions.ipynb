{
 "cells": [
  {
   "cell_type": "code",
   "execution_count": 1,
   "metadata": {},
   "outputs": [],
   "source": [
    "import polars as pl\n",
    "import os\n",
    "from util import pdf_to_text, best_fuzzy_match"
   ]
  },
  {
   "cell_type": "code",
   "execution_count": 2,
   "metadata": {},
   "outputs": [
    {
     "data": {
      "text/html": [
       "<div><style>\n",
       ".dataframe > thead > tr,\n",
       ".dataframe > tbody > tr {\n",
       "  text-align: right;\n",
       "  white-space: pre-wrap;\n",
       "}\n",
       "</style>\n",
       "<small>shape: (5, 2)</small><table border=\"1\" class=\"dataframe\"><thead><tr><th>Title</th><th>DATE</th></tr><tr><td>str</td><td>str</td></tr></thead><tbody><tr><td>&quot;Rogers v. Koon…</td><td>&quot;1992/04/02&quot;</td></tr><tr><td>&quot;Kienitz v. Sco…</td><td>&quot;2014/09/15&quot;</td></tr><tr><td>&quot;Reyher v. Chil…</td><td>&quot;1976/04/05&quot;</td></tr><tr><td>&quot;TCA Television…</td><td>&quot;2016/10/11&quot;</td></tr><tr><td>&quot;Society of the…</td><td>&quot;2010/12/03&quot;</td></tr></tbody></table></div>"
      ],
      "text/plain": [
       "shape: (5, 2)\n",
       "┌───────────────────────────────────┬────────────┐\n",
       "│ Title                             ┆ DATE       │\n",
       "│ ---                               ┆ ---        │\n",
       "│ str                               ┆ str        │\n",
       "╞═══════════════════════════════════╪════════════╡\n",
       "│ Rogers v. Koons                   ┆ 1992/04/02 │\n",
       "│ Kienitz v. Sconnie Nation LLC     ┆ 2014/09/15 │\n",
       "│ Reyher v. Children's Television … ┆ 1976/04/05 │\n",
       "│ TCA Television Corp. v. McCollum  ┆ 2016/10/11 │\n",
       "│ Society of the Holy Transfigurat… ┆ 2010/12/03 │\n",
       "└───────────────────────────────────┴────────────┘"
      ]
     },
     "execution_count": 2,
     "metadata": {},
     "output_type": "execute_result"
    }
   ],
   "source": [
    "ms_cases = [c.replace(\".pdf\", \"\") for c in os.listdir(\"Cases/IncompleteOpinions/\")]\n",
    "df = pl.read_csv(\"./Cases/IncompleteOpinions.csv\")\n",
    "df.head()"
   ]
  },
  {
   "cell_type": "code",
   "execution_count": 3,
   "metadata": {},
   "outputs": [],
   "source": [
    "df = df.with_columns(\n",
    "    pl.col(\"Title\").map_elements(lambda x: best_fuzzy_match(x, choices=ms_cases)[0]+\".pdf\").alias(\"Matched\"),\n",
    "    pl.col(\"Title\").map_elements(lambda x: best_fuzzy_match(x, choices=ms_cases)[1]).alias(\"MatchedScore\")\n",
    ").sort(\"MatchedScore\")"
   ]
  },
  {
   "cell_type": "code",
   "execution_count": 5,
   "metadata": {},
   "outputs": [],
   "source": [
    "df = df.with_columns(\n",
    "    pl.col(\"Matched\").map_elements(lambda x: pdf_to_text(\"./Cases/IncompleteOpinions/\" + x)).alias(\"Opinion\")\n",
    ")"
   ]
  },
  {
   "cell_type": "code",
   "execution_count": 6,
   "metadata": {},
   "outputs": [],
   "source": [
    "df.write_csv(\"./Cases/Incomplete_Opinion.csv\")"
   ]
  }
 ],
 "metadata": {
  "kernelspec": {
   "display_name": "Python 3",
   "language": "python",
   "name": "python3"
  },
  "language_info": {
   "codemirror_mode": {
    "name": "ipython",
    "version": 3
   },
   "file_extension": ".py",
   "mimetype": "text/x-python",
   "name": "python",
   "nbconvert_exporter": "python",
   "pygments_lexer": "ipython3",
   "version": "3.9.6"
  }
 },
 "nbformat": 4,
 "nbformat_minor": 2
}
