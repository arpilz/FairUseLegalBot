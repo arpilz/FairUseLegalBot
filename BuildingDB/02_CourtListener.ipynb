{
 "cells": [
  {
   "cell_type": "code",
   "execution_count": 12,
   "metadata": {},
   "outputs": [],
   "source": [
    "import polars as pl\n",
    "import requests\n",
    "import os\n",
    "import re\n",
    "\n",
    "API_KEY = os.environ[\"CL_API_KEY\"]\n",
    "# defining a params dict for the parameters to be sent to the API\n",
    "header =  {\"Authorization\": f\"Token {API_KEY}\"}"
   ]
  },
  {
   "cell_type": "code",
   "execution_count": null,
   "metadata": {},
   "outputs": [],
   "source": [
    "df = pl.read_csv(\"./Cases/WestLawMatch.csv\")"
   ]
  },
  {
   "cell_type": "code",
   "execution_count": null,
   "metadata": {},
   "outputs": [],
   "source": [
    "def get_cluster_id(absolute_url):\n",
    "    pattern = r'/opinion/(\\d+)/'\n",
    "\n",
    "    match = re.search(pattern, absolute_url)\n",
    "    if match:\n",
    "        return match.group(1)"
   ]
  },
  {
   "cell_type": "code",
   "execution_count": null,
   "metadata": {},
   "outputs": [],
   "source": [
    "df = df.with_columns(\n",
    "    pl.col(\"OpinionURL\").map_elements(get_cluster_id).alias(\"ClusterID\")\n",
    ")"
   ]
  },
  {
   "cell_type": "code",
   "execution_count": null,
   "metadata": {},
   "outputs": [],
   "source": [
    "df.head()"
   ]
  },
  {
   "cell_type": "code",
   "execution_count": null,
   "metadata": {},
   "outputs": [],
   "source": [
    "def get_opinions_from_cluster(cluster_id, header = header):\n",
    "\n",
    "    URL = f\"https://www.courtlistener.com/api/rest/v4/clusters/{cluster_id}\"\n",
    "\n",
    "        # sending get request and saving the response as response object\n",
    "    r = requests.get(url = URL, headers = header)\n",
    "\n",
    "    if r.status_code == 200:\n",
    "\n",
    "        response = r.json()\n",
    "        return response\n",
    "    \n",
    "    else:\n",
    "\n",
    "        return { None }"
   ]
  },
  {
   "cell_type": "code",
   "execution_count": null,
   "metadata": {},
   "outputs": [],
   "source": [
    "get_opinions_from_cluster(\"7331944\")"
   ]
  },
  {
   "cell_type": "code",
   "execution_count": null,
   "metadata": {},
   "outputs": [],
   "source": [
    "df = df.with_columns(\n",
    "    pl.col(\"ClusterID\").map_elements(get_opinions_from_cluster).alias(\"opinions\")\n",
    ")"
   ]
  },
  {
   "cell_type": "code",
   "execution_count": null,
   "metadata": {},
   "outputs": [],
   "source": [
    "cl = df.select([\"OpinionURL\", \"CourtListenerCaseName\", \"Citation\",\"ClusterID\", \"opinions\"]).with_columns(\n",
    "    pl.col(\"opinions\").map_elements(lambda x: x[\"docket_id\"]).alias(\"DocketID\"),\n",
    "    pl.col(\"opinions\").map_elements(lambda x: x[\"sub_opinions\"]).alias(\"SubOpinions\"),\n",
    "    pl.col(\"opinions\").map_elements(lambda x: x[\"precedential_status\"]).alias(\"PrecedentialStatus\")\n",
    ").drop(\"opinions\")"
   ]
  },
  {
   "cell_type": "code",
   "execution_count": null,
   "metadata": {},
   "outputs": [],
   "source": [
    "cl = cl.explode(\"SubOpinions\")"
   ]
  },
  {
   "cell_type": "code",
   "execution_count": null,
   "metadata": {},
   "outputs": [],
   "source": [
    "cl.head()"
   ]
  },
  {
   "cell_type": "code",
   "execution_count": null,
   "metadata": {},
   "outputs": [],
   "source": [
    "def get_actual_opinion(opinion_id):\n",
    "\n",
    "    URL = opinion_id\n",
    "\n",
    "    # sending get request and saving the response as response object\n",
    "    r = requests.get(url = URL, headers = header)\n",
    "\n",
    "    if r.status_code == 200:\n",
    "\n",
    "        response = r.json()\n",
    "            \n",
    "        return response\n",
    "        \n",
    "    else:\n",
    "\n",
    "        return None"
   ]
  },
  {
   "cell_type": "code",
   "execution_count": null,
   "metadata": {},
   "outputs": [],
   "source": [
    "cl = cl.with_columns(\n",
    "    pl.col(\"SubOpinions\").map_elements(get_actual_opinion).alias(\"Opinion_API\")\n",
    ")"
   ]
  },
  {
   "cell_type": "code",
   "execution_count": null,
   "metadata": {},
   "outputs": [],
   "source": [
    "def get_raw_opinion(opinion_data: dict):\n",
    "\n",
    "    # Priority order for locating the opinion text\n",
    "    document_priority = [\n",
    "        \"html_with_citations\",\n",
    "        \"html_columbia\",\n",
    "        \"html_lawbox\",\n",
    "        \"xml_harvard\",\n",
    "        \"html_anon_2020\",\n",
    "        \"html\",\n",
    "        \"plain_text\",\n",
    "    ]\n",
    "\n",
    "    # Find the first non-empty document in the priority list\n",
    "    document = None\n",
    "    for key in document_priority:\n",
    "        # We check if the key is in the dict and not None or empty\n",
    "        if key in opinion_data and opinion_data[key]:\n",
    "            document = opinion_data[key]\n",
    "            break\n",
    "\n",
    "    return document"
   ]
  },
  {
   "cell_type": "code",
   "execution_count": null,
   "metadata": {},
   "outputs": [],
   "source": [
    "cl = cl.with_columns(\n",
    "    pl.col(\"Opinion_API\").map_elements(lambda x: x[\"type\"]).alias(\"OpinionType\"),\n",
    "    pl.col(\"Opinion_API\").map_elements(get_raw_opinion).alias(\"Document\")\n",
    ").drop(\"Opinion_API\")"
   ]
  },
  {
   "cell_type": "code",
   "execution_count": null,
   "metadata": {},
   "outputs": [],
   "source": [
    "cl.write_csv(\"./Cases/CourtListenerOpinions.csv\")"
   ]
  },
  {
   "cell_type": "code",
   "execution_count": null,
   "metadata": {},
   "outputs": [],
   "source": [
    "def get_courts_from_docket(docket_id, header = header):\n",
    "\n",
    "    docket_id = str(docket_id)\n",
    "\n",
    "    URL = f\"https://www.courtlistener.com/api/rest/v4/dockets/{docket_id}\"\n",
    "\n",
    "    # sending get request and saving the response as response object\n",
    "    r = requests.get(url = URL, headers = header)\n",
    "\n",
    "    if r.status_code == 200:\n",
    "\n",
    "        response = r.json()\n",
    "        return response\n",
    "    \n",
    "    else:\n",
    "\n",
    "        return { None }"
   ]
  },
  {
   "cell_type": "code",
   "execution_count": 24,
   "metadata": {},
   "outputs": [],
   "source": [
    "def get_courts_from_court_id(court_url, header = header):\n",
    "\n",
    "    URL = court_url\n",
    "\n",
    "    # sending get request and saving the response as response object\n",
    "    r = requests.get(url = URL, headers = header)\n",
    "\n",
    "    if r.status_code == 200:\n",
    "\n",
    "        response = r.json()\n",
    "        return response\n",
    "    \n",
    "    else:\n",
    "\n",
    "        return { None }"
   ]
  },
  {
   "cell_type": "code",
   "execution_count": 14,
   "metadata": {},
   "outputs": [],
   "source": [
    "df = pl.read_csv(\"./Cases/CourtListenerOpinions.csv\")"
   ]
  },
  {
   "cell_type": "code",
   "execution_count": null,
   "metadata": {},
   "outputs": [],
   "source": [
    "df = df.with_columns(\n",
    "    pl.col(\"DocketID\").map_elements(get_courts_from_docket).alias(\"Docket_API\")\n",
    ")"
   ]
  },
  {
   "cell_type": "code",
   "execution_count": 21,
   "metadata": {},
   "outputs": [],
   "source": [
    "df = df.with_columns(\n",
    "    pl.col(\"Docket_API\").map_elements(lambda x: x[\"court_id\"]).alias(\"CourtID\"),\n",
    "    pl.col(\"Docket_API\").map_elements(lambda x: x[\"court\"]).alias(\"CourtURL\")\n",
    ")"
   ]
  },
  {
   "cell_type": "code",
   "execution_count": 25,
   "metadata": {},
   "outputs": [],
   "source": [
    "df = df.with_columns(\n",
    "    pl.col(\"CourtURL\").map_elements(get_courts_from_court_id).alias(\"Court_API\")\n",
    ")"
   ]
  },
  {
   "cell_type": "code",
   "execution_count": 31,
   "metadata": {},
   "outputs": [],
   "source": [
    "df.with_columns(\n",
    "    pl.col(\"Court_API\").map_elements(lambda x: x[\"full_name\"]).alias(\"Court\")\n",
    ").drop([\"Docket_API\", \"Court_API\"]).write_csv(\"./Cases/CourtListenerWithCourt.csv\")"
   ]
  },
  {
   "cell_type": "code",
   "execution_count": null,
   "metadata": {},
   "outputs": [],
   "source": []
  }
 ],
 "metadata": {
  "kernelspec": {
   "display_name": "Python 3",
   "language": "python",
   "name": "python3"
  },
  "language_info": {
   "codemirror_mode": {
    "name": "ipython",
    "version": 3
   },
   "file_extension": ".py",
   "mimetype": "text/x-python",
   "name": "python",
   "nbconvert_exporter": "python",
   "pygments_lexer": "ipython3",
   "version": "3.9.6"
  }
 },
 "nbformat": 4,
 "nbformat_minor": 2
}
