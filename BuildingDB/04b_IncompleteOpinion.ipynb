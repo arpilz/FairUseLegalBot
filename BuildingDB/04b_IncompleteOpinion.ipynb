{
 "cells": [
  {
   "cell_type": "code",
   "execution_count": 1,
   "metadata": {},
   "outputs": [],
   "source": [
    "import polars as pl\n",
    "from neo4j import GraphDatabase\n",
    "from eyecite import get_citations\n",
    "from eyecite.models import FullCaseCitation, ShortCaseCitation\n",
    "import polars as pl\n",
    "\n",
    "\n",
    "URI = \"bolt://localhost:7687\"\n",
    "AUTH = (\"neo4j\", \"fairusecases\")"
   ]
  },
  {
   "cell_type": "code",
   "execution_count": 2,
   "metadata": {},
   "outputs": [],
   "source": [
    "## Get all case law\n",
    "wl = pl.concat([pl.read_csv(\"./Cases/WestLawMatch.csv\"), pl.read_csv(\"./Cases/WestLawNotMatch.csv\")])\n",
    "## All fair use cases\n",
    "fair_use = [c for c in wl[\"Citation\"]]\n",
    "\n",
    "## Get Fair Use Case Matches\n",
    "def get_fair_use_citations(doc, fair_use = fair_use):\n",
    "\n",
    "    citations = [c.matched_text() for c in get_citations(doc) if type(c) is FullCaseCitation or type(c) is ShortCaseCitation]\n",
    "\n",
    "    cited = set(citations).intersection(set(fair_use))\n",
    "\n",
    "    return cited"
   ]
  },
  {
   "cell_type": "code",
   "execution_count": 3,
   "metadata": {},
   "outputs": [],
   "source": [
    "df = pl.read_csv(\"./Cases/Incomplete_Opinion.csv\")"
   ]
  },
  {
   "cell_type": "code",
   "execution_count": 4,
   "metadata": {},
   "outputs": [],
   "source": [
    "## Get citations\n",
    "df = df.with_columns(\n",
    "    pl.col(\"Opinion\").map_elements(get_fair_use_citations).alias(\"CitedCases\")\n",
    ")\n",
    "\n",
    "## Obtain \"adjacency list\" of cases and their cited counterparts\n",
    "df_citation = df.select([\"Title\", \"CitedCases\"])\n",
    "\n",
    "df_citation_rel = df_citation.with_columns(\n",
    "                pl.col(\"CitedCases\").map_elements(list)\n",
    "                ).explode(\"CitedCases\").unique().sort(\"Title\")\n",
    "\n",
    "## Create a map between the citation and the Title of the case based on Westlaw's name\n",
    "name_citation_map = wl.select([\"Title\", \"Citation\"]).unique().rename({\"Title\": \"CitedCaseName\"})"
   ]
  },
  {
   "cell_type": "code",
   "execution_count": 5,
   "metadata": {},
   "outputs": [],
   "source": [
    "df_citation_rel = df_citation_rel.rename({\"CitedCases\": \"Citation\"}).join(name_citation_map, on = [\"Citation\"], how = \"inner\")\n",
    "\n",
    "df_citation_rel.write_csv(\"./Cases/IncompleteOpinion_CitationRelationship.csv\")"
   ]
  },
  {
   "cell_type": "code",
   "execution_count": 8,
   "metadata": {},
   "outputs": [],
   "source": [
    "obs = df.select([\"Title\", \"Opinion\"]).iter_rows(named=True)\n",
    "\n",
    "def update_incomplete_cases(tx, obs):\n",
    "    result = tx.run(\"\"\"\n",
    "        MATCH (c: Case {WestLawCaseName: $westlaw})-[:HAS_OPINION]-(o:Opinion)\n",
    "        SET o.Document = $document\n",
    "        \"\"\", westlaw = obs[\"Title\"], document = obs[\"Opinion\"]\n",
    "    )\n",
    "\n",
    "    return result\n",
    "\n",
    "with GraphDatabase.driver(URI, auth=AUTH) as driver:\n",
    "    with driver.session(database=\"neo4j\") as session:\n",
    "         for ob in obs:\n",
    "            session.execute_write(update_incomplete_cases, ob)"
   ]
  },
  {
   "cell_type": "code",
   "execution_count": 9,
   "metadata": {},
   "outputs": [],
   "source": [
    "def update_case_citation(tx, obs):\n",
    "    result = tx.run(\"\"\"\n",
    "        MATCH (c1: Case {WestLawCaseName: $citer}), (c2: Case {WestLawCaseName: $citee})\n",
    "        WITH c1, c2\n",
    "        MERGE (c1)-[:CITED {Citation: $Citation}]->(c2)\n",
    "        \"\"\", citer = obs[\"Title\"], citee = obs[\"CitedCaseName\"], Citation = obs[\"Citation\"]\n",
    "    )\n",
    "    return result\n",
    "\n",
    "obs = df_citation_rel.iter_rows(named=True)\n",
    "with GraphDatabase.driver(URI, auth=AUTH) as driver:\n",
    "    with driver.session(database=\"neo4j\") as session:\n",
    "         for ob in obs:\n",
    "            if ob[\"Title\"] != ob[\"CitedCaseName\"]:\n",
    "                session.execute_write(update_case_citation, ob)"
   ]
  },
  {
   "cell_type": "code",
   "execution_count": null,
   "metadata": {},
   "outputs": [],
   "source": []
  }
 ],
 "metadata": {
  "kernelspec": {
   "display_name": "Python 3",
   "language": "python",
   "name": "python3"
  },
  "language_info": {
   "codemirror_mode": {
    "name": "ipython",
    "version": 3
   },
   "file_extension": ".py",
   "mimetype": "text/x-python",
   "name": "python",
   "nbconvert_exporter": "python",
   "pygments_lexer": "ipython3",
   "version": "3.9.6"
  }
 },
 "nbformat": 4,
 "nbformat_minor": 2
}
