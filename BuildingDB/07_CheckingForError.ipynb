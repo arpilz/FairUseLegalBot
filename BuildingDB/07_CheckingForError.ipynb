{
 "cells": [
  {
   "cell_type": "code",
   "execution_count": 18,
   "metadata": {},
   "outputs": [],
   "source": [
    "import polars as pl\n",
    "from neo4j import GraphDatabase\n",
    "from google import genai\n",
    "from extract_instructions import check_if_there_are_facts\n",
    "from dotenv import load_dotenv\n",
    "import os\n",
    "import time\n",
    "import requests\n",
    "\n",
    "dotenv_path = os.path.abspath(\"../.env\")  # Adjust the path accordingly\n",
    "load_dotenv(dotenv_path)\n",
    "\n",
    "client = genai.Client(api_key=os.environ[\"GEMINI_API\"])\n",
    "\n",
    "API_KEY = os.environ[\"CL_API_KEY\"]\n",
    "# defining a params dict for the parameters to be sent to the API\n",
    "header =  {\"Authorization\": f\"Token {API_KEY}\"}\n",
    "\n",
    "URI = \"bolt://localhost:7687\"\n",
    "AUTH = (\"neo4j\", \"fairusecases\")"
   ]
  },
  {
   "cell_type": "code",
   "execution_count": 19,
   "metadata": {},
   "outputs": [],
   "source": [
    "## Dealing with Conclusion\n",
    "def get_all_opinions(tx):\n",
    "    \n",
    "    results = tx.run(\"\"\"\n",
    "        MATCH (f:Facts)-[]-(o:Opinion)-[]-(c:Case)\n",
    "        RETURN c.WestLawCaseName AS Title, c.FiledDate AS DATE, c.ClusterID AS ClusterID, f.Document AS Document, o.Document AS Opinion\n",
    "        \"\"\"\n",
    "    )\n",
    "         \n",
    "    return results.to_df()\n",
    "\n",
    "\n",
    "with GraphDatabase.driver(URI, auth=AUTH) as driver:\n",
    "    with driver.session(database=\"neo4j\") as session:\n",
    "            df = session.execute_read(get_all_opinions)"
   ]
  },
  {
   "cell_type": "code",
   "execution_count": 20,
   "metadata": {},
   "outputs": [],
   "source": [
    "df = pl.from_pandas(df)"
   ]
  },
  {
   "cell_type": "code",
   "execution_count": 21,
   "metadata": {},
   "outputs": [],
   "source": [
    "df = df.with_columns(\n",
    "    pl.col(\"Document\").map_elements(len).alias(\"DocLength\"),\n",
    "    pl.col(\"ClusterID\").cast(pl.Utf8).map_elements(lambda x: x[:-2]),\n",
    "    pl.col(\"Opinion\").map_elements(len).alias(\"OpinionLength\")\n",
    ").filter(pl.col(\"DocLength\") < 500)"
   ]
  },
  {
   "cell_type": "code",
   "execution_count": 27,
   "metadata": {},
   "outputs": [],
   "source": [
    "## Dealing with Conclusion\n",
    "def get_all_opinions(tx, title):\n",
    "    \n",
    "    results = tx.run(\"\"\"\n",
    "        MATCH (c:Case {WestLawCaseName: $title})-[]-(o:Opinion)-[:OF]-(p)\n",
    "        DETACH DELETE p\n",
    "        \"\"\", title = title\n",
    "    )\n",
    "\n",
    "    return results\n",
    "\n",
    "\n",
    "with GraphDatabase.driver(URI, auth=AUTH) as driver:\n",
    "    with driver.session(database=\"neo4j\") as session:\n",
    "            for title in df[\"Title\"]:\n",
    "                session.execute_write(get_all_opinions, title)"
   ]
  },
  {
   "cell_type": "code",
   "execution_count": 8,
   "metadata": {},
   "outputs": [],
   "source": [
    "def get_opinions_from_cluster(cluster_id, header = header):\n",
    "\n",
    "    URL = f\"https://www.courtlistener.com/api/rest/v4/clusters/{cluster_id}\"\n",
    "\n",
    "        # sending get request and saving the response as response object\n",
    "    r = requests.get(url = URL, headers = header)\n",
    "\n",
    "    if r.status_code == 200:\n",
    "\n",
    "        response = r.json()\n",
    "        return response\n",
    "    \n",
    "    else:\n",
    "\n",
    "        return { None }"
   ]
  },
  {
   "cell_type": "code",
   "execution_count": null,
   "metadata": {},
   "outputs": [],
   "source": [
    "df = df.with_columns(\n",
    "    pl.col(\"ClusterID\").map_elements(get_opinions_from_cluster).alias(\"Opinions\")\n",
    ")"
   ]
  },
  {
   "cell_type": "code",
   "execution_count": null,
   "metadata": {},
   "outputs": [],
   "source": [
    "t = df[\"Opinions\"][23]"
   ]
  },
  {
   "cell_type": "code",
   "execution_count": null,
   "metadata": {},
   "outputs": [],
   "source": [
    "t"
   ]
  },
  {
   "cell_type": "code",
   "execution_count": null,
   "metadata": {},
   "outputs": [],
   "source": []
  }
 ],
 "metadata": {
  "kernelspec": {
   "display_name": "Python 3",
   "language": "python",
   "name": "python3"
  },
  "language_info": {
   "codemirror_mode": {
    "name": "ipython",
    "version": 3
   },
   "file_extension": ".py",
   "mimetype": "text/x-python",
   "name": "python",
   "nbconvert_exporter": "python",
   "pygments_lexer": "ipython3",
   "version": "3.9.6"
  }
 },
 "nbformat": 4,
 "nbformat_minor": 2
}
