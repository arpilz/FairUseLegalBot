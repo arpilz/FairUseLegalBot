{
 "cells": [
  {
   "cell_type": "code",
   "execution_count": 1,
   "metadata": {},
   "outputs": [],
   "source": [
    "import polars as pl\n",
    "from neo4j import GraphDatabase\n",
    "\n",
    "URI = \"bolt://localhost:7687\"\n",
    "AUTH = (\"neo4j\", \"fairusecases\")"
   ]
  },
  {
   "cell_type": "code",
   "execution_count": 3,
   "metadata": {},
   "outputs": [],
   "source": [
    "def get_all_opinions(tx):\n",
    "    \n",
    "    results = tx.run(\"\"\"\n",
    "        MATCH (c:Case)-[]-(o:Opinion)\n",
    "        RETURN c.WestLawCaseName as Title, o.Document as Document\n",
    "        \"\"\"\n",
    "    )\n",
    "         \n",
    "    return results.to_df()\n",
    "\n",
    "\n",
    "with GraphDatabase.driver(URI, auth=AUTH) as driver:\n",
    "    with driver.session(database=\"neo4j\") as session:\n",
    "            df = session.execute_read(get_all_opinions)"
   ]
  },
  {
   "cell_type": "code",
   "execution_count": 5,
   "metadata": {},
   "outputs": [],
   "source": [
    "df = pl.from_pandas(df)"
   ]
  },
  {
   "cell_type": "code",
   "execution_count": null,
   "metadata": {},
   "outputs": [
    {
     "data": {
      "text/html": [
       "<div><style>\n",
       ".dataframe > thead > tr,\n",
       ".dataframe > tbody > tr {\n",
       "  text-align: right;\n",
       "  white-space: pre-wrap;\n",
       "}\n",
       "</style>\n",
       "<small>shape: (233, 3)</small><table border=\"1\" class=\"dataframe\"><thead><tr><th>Title</th><th>Document</th><th>DocLength</th></tr><tr><td>str</td><td>str</td><td>i64</td></tr></thead><tbody><tr><td>&quot;Meeropol v. Ni…</td><td>&quot;&lt;opinion type=…</td><td>6729</td></tr><tr><td>&quot;Kienitz v. Sco…</td><td>&quot;\n",
       "--- Page 1 --…</td><td>7455</td></tr><tr><td>&quot;Blanch v. Koon…</td><td>&quot;&lt;div&gt;\n",
       "&lt;center&gt;…</td><td>9210</td></tr><tr><td>&quot;Estate of Smit…</td><td>&quot;\n",
       "--- Page 1 --…</td><td>9776</td></tr><tr><td>&quot;Estate of Smit…</td><td>&quot;\n",
       "--- Page 1 --…</td><td>9776</td></tr><tr><td>&quot;Homeowner Opti…</td><td>&quot;&lt;div&gt;\n",
       "&lt;center&gt;…</td><td>9986</td></tr><tr><td>&quot;Worldwide Chur…</td><td>&quot;&lt;opinion type=…</td><td>14682</td></tr><tr><td>&quot;Richards v. Me…</td><td>&quot;&lt;opinion type=…</td><td>14880</td></tr><tr><td>&quot;Davidson v. Un…</td><td>&quot;&lt;pre class=&quot;in…</td><td>15354</td></tr><tr><td>&quot;Iowa State Uni…</td><td>&quot;&lt;opinion type=…</td><td>17997</td></tr><tr><td>&quot;Reyher v. Chil…</td><td>&quot;\n",
       "--- Page 1 --…</td><td>18553</td></tr><tr><td>&quot;Pieczenik v. B…</td><td>&quot;\n",
       "--- Page 1 --…</td><td>19747</td></tr><tr><td>&hellip;</td><td>&hellip;</td><td>&hellip;</td></tr><tr><td>&quot;Warner Bros. E…</td><td>&quot;&lt;div&gt;\n",
       "&lt;center&gt;…</td><td>158318</td></tr><tr><td>&quot;Harper &amp; Row P…</td><td>&quot;&lt;div&gt;\n",
       "&lt;center&gt;…</td><td>166864</td></tr><tr><td>&quot;Estate of Barr…</td><td>&quot;&lt;opinion type=…</td><td>167485</td></tr><tr><td>&quot;Ranieri v. Adi…</td><td>&quot;&lt;opinion type=…</td><td>168199</td></tr><tr><td>&quot;Golan v. Holde…</td><td>&quot;&lt;pre class=&quot;in…</td><td>177931</td></tr><tr><td>&quot;Cambridge Univ…</td><td>&quot;&lt;opinion type=…</td><td>192030</td></tr><tr><td>&quot;Sony Corp. of …</td><td>&quot;\n",
       "--- Page 1 --…</td><td>198787</td></tr><tr><td>&quot;FMC Corp. v. C…</td><td>&quot;&lt;div&gt;\n",
       "&lt;center&gt;…</td><td>200634</td></tr><tr><td>&quot;Andy Warhol Fo…</td><td>&quot;&lt;pre class=&quot;in…</td><td>204105</td></tr><tr><td>&quot;Andy Warhol Fo…</td><td>&quot;&lt;pre class=&quot;in…</td><td>208966</td></tr><tr><td>&quot;Cambridge Univ…</td><td>&quot;&lt;pre class=&quot;in…</td><td>275636</td></tr><tr><td>&quot;Cambridge Univ…</td><td>&quot;&lt;opinion type=…</td><td>667898</td></tr></tbody></table></div>"
      ],
      "text/plain": [
       "shape: (233, 3)\n",
       "┌───────────────────────────────────┬───────────────────────────────────┬───────────┐\n",
       "│ Title                             ┆ Document                          ┆ DocLength │\n",
       "│ ---                               ┆ ---                               ┆ ---       │\n",
       "│ str                               ┆ str                               ┆ i64       │\n",
       "╞═══════════════════════════════════╪═══════════════════════════════════╪═══════════╡\n",
       "│ Meeropol v. Nizer                 ┆ <opinion type=\"majority\">         ┆ 6729      │\n",
       "│                                   ┆ <autho…                           ┆           │\n",
       "│ Kienitz v. Sconnie Nation LLC     ┆                                   ┆ 7455      │\n",
       "│                                   ┆ --- Page 1 ---                    ┆           │\n",
       "│                                   ┆ 766 F.3d 756                      ┆           │\n",
       "│                                   ┆ Mic…                              ┆           │\n",
       "│ Blanch v. Koons                   ┆ <div>                             ┆ 9210      │\n",
       "│                                   ┆ <center><b><span class=\"ci…       ┆           │\n",
       "│ Estate of Smith v. Graham         ┆                                   ┆ 9776      │\n",
       "│                                   ┆ --- Page 1 ---                    ┆           │\n",
       "│                                   ┆ ESTATE OF JAMES …                 ┆           │\n",
       "│ …                                 ┆ …                                 ┆ …         │\n",
       "│ Andy Warhol Foundation for Visua… ┆ <pre class=\"inline\">(Slip Opinio… ┆ 204105    │\n",
       "│ Andy Warhol Foundation for Visua… ┆ <pre class=\"inline\">            … ┆ 208966    │\n",
       "│ Cambridge University Press v. Pa… ┆ <pre class=\"inline\">            … ┆ 275636    │\n",
       "│ Cambridge University Press v. Be… ┆ <opinion type=\"majority\">         ┆ 667898    │\n",
       "│                                   ┆ <p id=…                           ┆           │\n",
       "└───────────────────────────────────┴───────────────────────────────────┴───────────┘"
      ]
     },
     "execution_count": 7,
     "metadata": {},
     "output_type": "execute_result"
    }
   ],
   "source": [
    "df.with_columns(\n",
    "    pl.col(\"Document\").map_elements(len).alias(\"DocLength\")\n",
    ").sort(by = \"DocLength\")"
   ]
  },
  {
   "cell_type": "code",
   "execution_count": 11,
   "metadata": {},
   "outputs": [
    {
     "data": {
      "text/plain": [
       "['Bouchat v. Baltimore Ravens Ltd. Partnership',\n",
       " 'Otto v. Hearst Communications, Inc.',\n",
       " 'Monge v. Maya Magazines, Inc.',\n",
       " 'Cambridge University Press v. Patton',\n",
       " 'Abend v. MCA, Inc.',\n",
       " 'MCA, Inc. v. Wilson',\n",
       " 'Compaq Computer Corp. v. Ergonome Inc.',\n",
       " 'Hustler Magazine Inc. v. Moral Majority Inc.',\n",
       " 'Harper & Row Publishers, Inc. v. Nation Enterprises',\n",
       " 'Andy Warhol Foundation for Visual Arts, Inc. v. Goldsmith',\n",
       " 'West Pub. Co. v. Mead Data Cent., Inc.',\n",
       " 'Estate of Smith v. Graham',\n",
       " 'American Geophysical Union v. Texaco Inc.',\n",
       " 'Fox News Network, LLC v. Tveyes, Inc.',\n",
       " 'Cheffins v. Stewart',\n",
       " 'Worldwide Church of God v. Philadelphia Church of God, Inc.']"
      ]
     },
     "execution_count": 11,
     "metadata": {},
     "output_type": "execute_result"
    }
   ],
   "source": [
    "df.group_by(\"Title\").count().filter(pl.col(\"count\") != 1)[\"Title\"].to_list()"
   ]
  },
  {
   "cell_type": "code",
   "execution_count": null,
   "metadata": {},
   "outputs": [],
   "source": []
  }
 ],
 "metadata": {
  "kernelspec": {
   "display_name": "Python 3",
   "language": "python",
   "name": "python3"
  },
  "language_info": {
   "codemirror_mode": {
    "name": "ipython",
    "version": 3
   },
   "file_extension": ".py",
   "mimetype": "text/x-python",
   "name": "python",
   "nbconvert_exporter": "python",
   "pygments_lexer": "ipython3",
   "version": "3.9.6"
  }
 },
 "nbformat": 4,
 "nbformat_minor": 2
}
