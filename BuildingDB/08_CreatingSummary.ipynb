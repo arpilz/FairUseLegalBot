{
 "cells": [
  {
   "cell_type": "code",
   "execution_count": 1,
   "metadata": {},
   "outputs": [
    {
     "name": "stderr",
     "output_type": "stream",
     "text": [
      "/Users/jho/Library/Python/3.9/lib/python/site-packages/tqdm/auto.py:21: TqdmWarning: IProgress not found. Please update jupyter and ipywidgets. See https://ipywidgets.readthedocs.io/en/stable/user_install.html\n",
      "  from .autonotebook import tqdm as notebook_tqdm\n"
     ]
    }
   ],
   "source": [
    "from langchain_google_genai import ChatGoogleGenerativeAI\n",
    "from langchain_core.prompts import ChatPromptTemplate\n",
    "import os\n",
    "from neo4j import GraphDatabase\n",
    "from dotenv import load_dotenv\n",
    "import polars as pl\n",
    "\n",
    "dotenv_path = os.path.abspath(\"../.env\")  # Adjust the path accordingly\n",
    "load_dotenv(dotenv_path)\n",
    "\n",
    "URI = \"bolt://localhost:7687\"\n",
    "AUTH = (\"neo4j\", \"fairusecases\")\n",
    "\n",
    "os.environ[\"GOOGLE_API_KEY\"] = os.environ[\"GEMINI_API\"]\n",
    "\n",
    "# Initialize the LLM (ensure your API key is set in your environment)\n",
    "llm = ChatGoogleGenerativeAI(\n",
    "    model=\"gemini-2.0-flash\",\n",
    "    max_tokens=None,\n",
    "    timeout=None\n",
    ")\n",
    "\n",
    "fair_use_summary_prompt = ChatPromptTemplate.from_messages(\n",
    "    [\n",
    "        (\n",
    "            \"system\",\n",
    "            \"\"\"You are a legal analyst. Read the following legal opinion and summarize its significance with respect to its Fair Use ruling. Focus on the key points, include a general overview of the facts of the case and the context, as well as the implications regarding Fair Use.\\n\\n\"\"\",\n",
    "        ),\n",
    "        (\"human\", \"Here is the legal opinion: {legal_opinion}\"),\n",
    "    ]\n",
    ")\n",
    "\n",
    "fair_use_summary_chain = fair_use_summary_prompt | llm"
   ]
  },
  {
   "cell_type": "code",
   "execution_count": 2,
   "metadata": {},
   "outputs": [
    {
     "name": "stderr",
     "output_type": "stream",
     "text": [
      "Received notification from DBMS server: {severity: WARNING} {code: Neo.ClientNotification.Statement.UnknownPropertyKeyWarning} {category: UNRECOGNIZED} {title: The provided property key is not in the database} {description: One of the property names in your query is not available in the database, make sure you didn't misspell it or that the label is available when you run this statement in your application (the missing property name is: Summary)} {position: line: 3, column: 17, offset: 43} for query: '\\n        MATCH (o:Opinion)\\n        WHERE o.Summary IS NULL\\n        RETURN o.Document as Document\\n        '\n"
     ]
    }
   ],
   "source": [
    "def get_opinions(tx):\n",
    "    \n",
    "    results = tx.run(\"\"\"\n",
    "        MATCH (o:Opinion)\n",
    "        WHERE o.Summary IS NULL\n",
    "        RETURN o.Document as Document\n",
    "        \"\"\"\n",
    "    )\n",
    "         \n",
    "    return pl.from_pandas(results.to_df())\n",
    "\n",
    "\n",
    "with GraphDatabase.driver(URI, auth=AUTH) as driver:\n",
    "    with driver.session(database=\"neo4j\") as session:\n",
    "            df = session.execute_read(get_opinions)"
   ]
  },
  {
   "cell_type": "code",
   "execution_count": 3,
   "metadata": {},
   "outputs": [
    {
     "data": {
      "text/plain": [
       "<bound method DataFrame.describe of shape: (283, 1)\n",
       "┌─────────────────────────────┐\n",
       "│ Document                    │\n",
       "│ ---                         │\n",
       "│ str                         │\n",
       "╞═════════════════════════════╡\n",
       "│ <div>                       │\n",
       "│ <center><b><span class=\"ci… │\n",
       "│ <div>                       │\n",
       "│ <center><b><span class=\"ci… │\n",
       "│ <opinion type=\"majority\">   │\n",
       "│ <p id=…                     │\n",
       "│                             │\n",
       "│ --- Page 1 ---              │\n",
       "│ Page 301                    │\n",
       "│ 960 F.2…                    │\n",
       "│ …                           │\n",
       "│                             │\n",
       "│ --- Page 1 ---              │\n",
       "│ 464 F.Supp.3d 59…           │\n",
       "│                             │\n",
       "│ --- Page 1 ---              │\n",
       "│ ESTATE OF JAMES …           │\n",
       "│                             │\n",
       "│ --- Page 1 ---              │\n",
       "│ Colby, Alexandra…           │\n",
       "│                             │\n",
       "│ --- Page 1 ---              │\n",
       "│ Colby, Alexandra…           │\n",
       "└─────────────────────────────┘>"
      ]
     },
     "execution_count": 3,
     "metadata": {},
     "output_type": "execute_result"
    }
   ],
   "source": [
    "df.describe"
   ]
  },
  {
   "cell_type": "code",
   "execution_count": null,
   "metadata": {},
   "outputs": [],
   "source": [
    "def create_opinion_summary(tx, document, summary):\n",
    "    \n",
    "    tx.run(\"\"\"\n",
    "        MATCH (o:Opinion {Document: $document})\n",
    "        SET o.Summary = $summary\n",
    "        \"\"\", document = document, summary = summary\n",
    "    )\n",
    "         \n",
    "\n",
    "with GraphDatabase.driver(URI, auth=AUTH) as driver:\n",
    "    with driver.session(database=\"neo4j\") as session:\n",
    "            for d in df.iter_rows(named = True):\n",
    "                summary = fair_use_summary_chain.invoke({\"legal_opinion\": d[\"Document\"]}).content\n",
    "                session.execute_write(create_opinion_summary, d[\"Document\"], summary)"
   ]
  },
  {
   "cell_type": "code",
   "execution_count": null,
   "metadata": {},
   "outputs": [],
   "source": []
  }
 ],
 "metadata": {
  "kernelspec": {
   "display_name": "Python 3",
   "language": "python",
   "name": "python3"
  },
  "language_info": {
   "codemirror_mode": {
    "name": "ipython",
    "version": 3
   },
   "file_extension": ".py",
   "mimetype": "text/x-python",
   "name": "python",
   "nbconvert_exporter": "python",
   "pygments_lexer": "ipython3",
   "version": "3.9.6"
  }
 },
 "nbformat": 4,
 "nbformat_minor": 2
}
