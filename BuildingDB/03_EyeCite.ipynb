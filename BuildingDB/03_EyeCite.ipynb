{
 "cells": [
  {
   "cell_type": "code",
   "execution_count": 58,
   "metadata": {},
   "outputs": [],
   "source": [
    "from eyecite import get_citations\n",
    "from eyecite.models import FullCaseCitation, ShortCaseCitation\n",
    "import polars as pl"
   ]
  },
  {
   "cell_type": "code",
   "execution_count": 59,
   "metadata": {},
   "outputs": [],
   "source": [
    "df = pl.read_csv(\"./Cases/CourtListenerOpinions.csv\")\n",
    "fair_use = [c for c in df[\"Citation\"]]"
   ]
  },
  {
   "cell_type": "code",
   "execution_count": 60,
   "metadata": {},
   "outputs": [],
   "source": [
    "def get_fair_use_citations(doc, fair_use = fair_use):\n",
    "\n",
    "    citations = [c.matched_text() for c in get_citations(doc) if type(c) is FullCaseCitation or type(c) is ShortCaseCitation]\n",
    "\n",
    "    cited = set(citations).intersection(set(fair_use))\n",
    "\n",
    "    return cited"
   ]
  },
  {
   "cell_type": "code",
   "execution_count": 61,
   "metadata": {},
   "outputs": [],
   "source": [
    "df = df.with_columns(\n",
    "    pl.col(\"Document\").map_elements(get_fair_use_citations).alias(\"CitedCases\")\n",
    ")"
   ]
  },
  {
   "cell_type": "code",
   "execution_count": 62,
   "metadata": {},
   "outputs": [],
   "source": [
    "df_citation = df.select([\"CourtListenerCaseName\", \"CitedCases\"])"
   ]
  },
  {
   "cell_type": "code",
   "execution_count": 63,
   "metadata": {},
   "outputs": [],
   "source": [
    "citation_rel = df_citation.with_columns(\n",
    "                pl.col(\"CitedCases\").map_elements(list)\n",
    "                ).explode(\"CitedCases\").unique().sort(\"CourtListenerCaseName\")"
   ]
  },
  {
   "cell_type": "code",
   "execution_count": 67,
   "metadata": {},
   "outputs": [],
   "source": [
    "name_citation_map = df.select([\"CourtListenerCaseName\", \"Citation\"]).unique().rename({\"CourtListenerCaseName\": \"CitedCaseName\"})"
   ]
  },
  {
   "cell_type": "code",
   "execution_count": 71,
   "metadata": {},
   "outputs": [],
   "source": [
    "citation_rel.rename({\"CitedCases\": \"Citation\"}).join(name_citation_map, on = [\"Citation\"], how = \"inner\").write_csv(\"./Cases/CitationRelationship.csv\")"
   ]
  },
  {
   "cell_type": "code",
   "execution_count": null,
   "metadata": {},
   "outputs": [],
   "source": []
  }
 ],
 "metadata": {
  "kernelspec": {
   "display_name": "Python 3",
   "language": "python",
   "name": "python3"
  },
  "language_info": {
   "codemirror_mode": {
    "name": "ipython",
    "version": 3
   },
   "file_extension": ".py",
   "mimetype": "text/x-python",
   "name": "python",
   "nbconvert_exporter": "python",
   "pygments_lexer": "ipython3",
   "version": "3.9.6"
  }
 },
 "nbformat": 4,
 "nbformat_minor": 2
}
