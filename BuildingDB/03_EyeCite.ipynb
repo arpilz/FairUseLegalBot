{
 "cells": [
  {
   "cell_type": "code",
   "execution_count": 1,
   "metadata": {},
   "outputs": [],
   "source": [
    "from eyecite import get_citations\n",
    "from eyecite.models import FullCaseCitation, ShortCaseCitation\n",
    "import polars as pl"
   ]
  },
  {
   "cell_type": "code",
   "execution_count": 2,
   "metadata": {},
   "outputs": [],
   "source": [
    "## Get all case law\n",
    "wl = pl.concat([pl.read_csv(\"./Cases/WestLawMatch.csv\"), pl.read_csv(\"./Cases/WestLawNotMatch.csv\")])"
   ]
  },
  {
   "cell_type": "code",
   "execution_count": 3,
   "metadata": {},
   "outputs": [],
   "source": [
    "## Those that are matched\n",
    "df = pl.read_csv(\"./Cases/CourtListenerOpinions.csv\")\n",
    "## All fair use cases\n",
    "fair_use = [c for c in wl[\"Citation\"]]"
   ]
  },
  {
   "cell_type": "code",
   "execution_count": 4,
   "metadata": {},
   "outputs": [],
   "source": [
    "## Get Fair Use Case Matches\n",
    "def get_fair_use_citations(doc, fair_use = fair_use):\n",
    "\n",
    "    citations = [c.matched_text() for c in get_citations(doc) if type(c) is FullCaseCitation or type(c) is ShortCaseCitation]\n",
    "\n",
    "    cited = set(citations).intersection(set(fair_use))\n",
    "\n",
    "    return cited"
   ]
  },
  {
   "cell_type": "code",
   "execution_count": 5,
   "metadata": {},
   "outputs": [],
   "source": [
    "## Construct a list of all cited cases\n",
    "df = df.with_columns(\n",
    "    pl.col(\"Document\").map_elements(get_fair_use_citations).alias(\"CitedCases\")\n",
    ")"
   ]
  },
  {
   "cell_type": "code",
   "execution_count": 7,
   "metadata": {},
   "outputs": [
    {
     "data": {
      "text/html": [
       "<div><style>\n",
       ".dataframe > thead > tr,\n",
       ".dataframe > tbody > tr {\n",
       "  text-align: right;\n",
       "  white-space: pre-wrap;\n",
       "}\n",
       "</style>\n",
       "<small>shape: (5, 10)</small><table border=\"1\" class=\"dataframe\"><thead><tr><th>OpinionURL</th><th>CourtListenerCaseName</th><th>Citation</th><th>ClusterID</th><th>DocketID</th><th>SubOpinions</th><th>PrecedentialStatus</th><th>OpinionType</th><th>Document</th><th>CitedCases</th></tr><tr><td>str</td><td>str</td><td>str</td><td>i64</td><td>i64</td><td>str</td><td>str</td><td>str</td><td>str</td><td>object</td></tr></thead><tbody><tr><td>&quot;/opinion/73319…</td><td>&quot;Gym Door Repai…</td><td>&quot;206 F.Supp.3d …</td><td>7331944</td><td>64320429</td><td>&quot;https://www.co…</td><td>&quot;Published&quot;</td><td>&quot;020lead&quot;</td><td>&quot;&lt;opinion type=…</td><td>{&#x27;471 U.S. 539&#x27;, &#x27;206 F.Supp.3d 869&#x27;}</td></tr><tr><td>&quot;/opinion/73316…</td><td>&quot;Bell v. Moawad…</td><td>&quot;326 F.Supp.3d …</td><td>7331657</td><td>64320141</td><td>&quot;https://www.co…</td><td>&quot;Published&quot;</td><td>&quot;020lead&quot;</td><td>&quot;&lt;opinion type=…</td><td>{&#x27;336 F.3d 811&#x27;, &#x27;471 U.S. 539&#x27;, &#x27;869 F.3d 848&#x27;, &#x27;796 F.2d 1148&#x27;, &#x27;464 U.S. 417&#x27;, &#x27;227 F.3d 1110&#x27;, &#x27;512 F.3d 522&#x27;, &#x27;74 F.Supp.3d 605&#x27;, &#x27;510 U.S. 569&#x27;, &#x27;508 F.3d 1146&#x27;, &#x27;725 F.3d 1170&#x27;, &#x27;239 F.3d 1004&#x27;, &#x27;447 F.3d 769&#x27;}</td></tr><tr><td>&quot;/opinion/73319…</td><td>&quot;Gym Door Repai…</td><td>&quot;331 F.Supp.3d …</td><td>7331944</td><td>64320429</td><td>&quot;https://www.co…</td><td>&quot;Published&quot;</td><td>&quot;020lead&quot;</td><td>&quot;&lt;opinion type=…</td><td>{&#x27;471 U.S. 539&#x27;, &#x27;206 F.Supp.3d 869&#x27;}</td></tr><tr><td>&quot;/opinion/48608…</td><td>&quot;Midlevelu, LLC…</td><td>&quot;989 F.3d 1205&quot;</td><td>4860821</td><td>59701417</td><td>&quot;https://www.co…</td><td>&quot;Published&quot;</td><td>&quot;010combined&quot;</td><td>&quot;&lt;pre class=&quot;in…</td><td>{&#x27;804 F.3d 202&#x27;, &#x27;471 U.S. 539&#x27;, &#x27;755 F.3d 87&#x27;, &#x27;902 F.2d 829&#x27;, &#x27;510 U.S. 569&#x27;, &#x27;918 F.3d 723&#x27;, &#x27;495 U.S. 207&#x27;}</td></tr><tr><td>&quot;/opinion/24565…</td><td>&quot;Infinity Broad…</td><td>&quot;150 F.3d 104&quot;</td><td>2456581</td><td>2328910</td><td>&quot;https://www.co…</td><td>&quot;Published&quot;</td><td>&quot;010combined&quot;</td><td>&quot;&lt;div&gt;\n",
       "&lt;center&gt;…</td><td>set()</td></tr></tbody></table></div>"
      ],
      "text/plain": [
       "shape: (5, 10)\n",
       "┌───────────┬───────────┬───────────┬───────────┬───┬───────────┬───────────┬───────────┬──────────┐\n",
       "│ OpinionUR ┆ CourtList ┆ Citation  ┆ ClusterID ┆ … ┆ Precedent ┆ OpinionTy ┆ Document  ┆ CitedCas │\n",
       "│ L         ┆ enerCaseN ┆ ---       ┆ ---       ┆   ┆ ialStatus ┆ pe        ┆ ---       ┆ es       │\n",
       "│ ---       ┆ ame       ┆ str       ┆ i64       ┆   ┆ ---       ┆ ---       ┆ str       ┆ ---      │\n",
       "│ str       ┆ ---       ┆           ┆           ┆   ┆ str       ┆ str       ┆           ┆ object   │\n",
       "│           ┆ str       ┆           ┆           ┆   ┆           ┆           ┆           ┆          │\n",
       "╞═══════════╪═══════════╪═══════════╪═══════════╪═══╪═══════════╪═══════════╪═══════════╪══════════╡\n",
       "│ /opinion/ ┆ Gym Door  ┆ 206       ┆ 7331944   ┆ … ┆ Published ┆ 020lead   ┆ <opinion  ┆ {'471    │\n",
       "│ 7331944/g ┆ Repairs,  ┆ F.Supp.3d ┆           ┆   ┆           ┆           ┆ type=\"maj ┆ U.S.     │\n",
       "│ ym-door-r ┆ Inc. v.   ┆ 869       ┆           ┆   ┆           ┆           ┆ ority\">   ┆ 539',    │\n",
       "│ epair…    ┆ Young …   ┆           ┆           ┆   ┆           ┆           ┆ <autho…   ┆ '206 F.S │\n",
       "│           ┆           ┆           ┆           ┆   ┆           ┆           ┆           ┆ upp.3d … │\n",
       "│ /opinion/ ┆ Bell v.   ┆ 326       ┆ 7331657   ┆ … ┆ Published ┆ 020lead   ┆ <opinion  ┆ {'336    │\n",
       "│ 7331657/b ┆ Moawad    ┆ F.Supp.3d ┆           ┆   ┆           ┆           ┆ type=\"maj ┆ F.3d     │\n",
       "│ ell-v-moa ┆ Grp., LLC ┆ 918       ┆           ┆   ┆           ┆           ┆ ority\">   ┆ 811',    │\n",
       "│ wad-g…    ┆           ┆           ┆           ┆   ┆           ┆           ┆ <autho…   ┆ '471     │\n",
       "│           ┆           ┆           ┆           ┆   ┆           ┆           ┆           ┆ U.S.     │\n",
       "│           ┆           ┆           ┆           ┆   ┆           ┆           ┆           ┆ 539',…   │\n",
       "│ /opinion/ ┆ Gym Door  ┆ 331       ┆ 7331944   ┆ … ┆ Published ┆ 020lead   ┆ <opinion  ┆ {'471    │\n",
       "│ 7331944/g ┆ Repairs,  ┆ F.Supp.3d ┆           ┆   ┆           ┆           ┆ type=\"maj ┆ U.S.     │\n",
       "│ ym-door-r ┆ Inc. v.   ┆ 221       ┆           ┆   ┆           ┆           ┆ ority\">   ┆ 539',    │\n",
       "│ epair…    ┆ Young …   ┆           ┆           ┆   ┆           ┆           ┆ <autho…   ┆ '206 F.S │\n",
       "│           ┆           ┆           ┆           ┆   ┆           ┆           ┆           ┆ upp.3d … │\n",
       "│ /opinion/ ┆ Midlevelu ┆ 989 F.3d  ┆ 4860821   ┆ … ┆ Published ┆ 010combin ┆ <pre clas ┆ {'804    │\n",
       "│ 4860821/m ┆ , LLC v.  ┆ 1205      ┆           ┆   ┆           ┆ ed        ┆ s=\"inline ┆ F.3d     │\n",
       "│ idlevelu- ┆ ACI Infor ┆           ┆           ┆   ┆           ┆           ┆ \">        ┆ 202',    │\n",
       "│ llc-v…    ┆ matio…    ┆           ┆           ┆   ┆           ┆           ┆ USC…      ┆ '471     │\n",
       "│           ┆           ┆           ┆           ┆   ┆           ┆           ┆           ┆ U.S.     │\n",
       "│           ┆           ┆           ┆           ┆   ┆           ┆           ┆           ┆ 539',…   │\n",
       "│ /opinion/ ┆ Infinity  ┆ 150 F.3d  ┆ 2456581   ┆ … ┆ Published ┆ 010combin ┆ <div>     ┆ set()    │\n",
       "│ 2456581/i ┆ Broadcast ┆ 104       ┆           ┆   ┆           ┆ ed        ┆ <center>< ┆          │\n",
       "│ nfinity-b ┆ ing Corp. ┆           ┆           ┆   ┆           ┆           ┆ b><span   ┆          │\n",
       "│ roadc…    ┆ v. K…     ┆           ┆           ┆   ┆           ┆           ┆ class=\"ci ┆          │\n",
       "│           ┆           ┆           ┆           ┆   ┆           ┆           ┆ …         ┆          │\n",
       "└───────────┴───────────┴───────────┴───────────┴───┴───────────┴───────────┴───────────┴──────────┘"
      ]
     },
     "execution_count": 7,
     "metadata": {},
     "output_type": "execute_result"
    }
   ],
   "source": [
    "df.head()"
   ]
  },
  {
   "cell_type": "code",
   "execution_count": 8,
   "metadata": {},
   "outputs": [],
   "source": [
    "## Obtain \"adjacency list\" of cases and their cited counterparts\n",
    "df_citation = df.select([\"CourtListenerCaseName\", \"CitedCases\"])\n",
    "\n",
    "citation_rel = df_citation.with_columns(\n",
    "                pl.col(\"CitedCases\").map_elements(list)\n",
    "                ).explode(\"CitedCases\").unique().sort(\"CourtListenerCaseName\")"
   ]
  },
  {
   "cell_type": "code",
   "execution_count": 9,
   "metadata": {},
   "outputs": [],
   "source": [
    "name_citation_map = wl.select([\"Title\", \"Citation\"]).unique().rename({\"Title\": \"CitedCaseName\"})"
   ]
  },
  {
   "cell_type": "code",
   "execution_count": null,
   "metadata": {},
   "outputs": [],
   "source": [
    "citation_rel.rename({\"CitedCases\": \"Citation\"}).join(name_citation_map, on = [\"Citation\"], how = \"inner\").write_csv(\"./Cases/CL_CitationRelationship.csv\")"
   ]
  },
  {
   "cell_type": "code",
   "execution_count": 12,
   "metadata": {},
   "outputs": [],
   "source": [
    "## For WestLaw No Match\n",
    "wl_nm = pl.read_csv(\"./Cases/WLNM_Opinion.csv\")\n",
    "\n",
    "## Get citations\n",
    "wl_nm = wl_nm.with_columns(\n",
    "    pl.col(\"Opinion\").map_elements(get_fair_use_citations).alias(\"CitedCases\")\n",
    ")\n",
    "\n",
    "## Obtain \"adjacency list\" of cases and their cited counterparts\n",
    "wl_nm_citation = wl_nm.select([\"Title\", \"CitedCases\"])\n",
    "\n",
    "wl_nm_citation_rel = wl_nm_citation.with_columns(\n",
    "                pl.col(\"CitedCases\").map_elements(list)\n",
    "                ).explode(\"CitedCases\").unique().sort(\"Title\")"
   ]
  },
  {
   "cell_type": "code",
   "execution_count": 14,
   "metadata": {},
   "outputs": [],
   "source": [
    "wl_nm_citation_rel.rename({\"CitedCases\": \"Citation\"}).join(name_citation_map, on = [\"Citation\"], how = \"inner\").write_csv(\"./Cases/WL_CitationRelationship.csv\")"
   ]
  },
  {
   "cell_type": "code",
   "execution_count": null,
   "metadata": {},
   "outputs": [],
   "source": []
  }
 ],
 "metadata": {
  "kernelspec": {
   "display_name": "Python 3",
   "language": "python",
   "name": "python3"
  },
  "language_info": {
   "codemirror_mode": {
    "name": "ipython",
    "version": 3
   },
   "file_extension": ".py",
   "mimetype": "text/x-python",
   "name": "python",
   "nbconvert_exporter": "python",
   "pygments_lexer": "ipython3",
   "version": "3.9.6"
  }
 },
 "nbformat": 4,
 "nbformat_minor": 2
}
