{
 "cells": [
  {
   "cell_type": "code",
   "execution_count": null,
   "metadata": {},
   "outputs": [],
   "source": [
    "import polars as pl\n",
    "from neo4j import GraphDatabase\n",
    "from datetime import datetime\n",
    "from util import court_mapping\n",
    "\n",
    "URI = \"bolt://localhost:7687\"\n",
    "AUTH = (\"neo4j\", \"fairusecases\")"
   ]
  },
  {
   "cell_type": "code",
   "execution_count": null,
   "metadata": {},
   "outputs": [],
   "source": [
    "# Read all processed files\n",
    "westlaw = pl.read_csv(\"./Cases/WestLawMatch.csv\")\n",
    "opinions = pl.read_csv(\"./Cases/CourtListenerOpinions.csv\")\n",
    "cl = pl.read_csv(\"./Cases/CourtListenerWithCourt.csv\")\n",
    "appellate_relationships = pl.read_csv(\"./Cases/AppellateRelationship.csv\")\n",
    "citation = pl.read_csv(\"./Cases/CL_CitationRelationship.csv\")\n",
    "wlnm_citation = pl.read_csv(\"./Cases/WL_CitationRelationship.csv\")\n",
    "wlnm = pl.read_csv(\"./Cases/WLNM_Opinion.csv\")"
   ]
  },
  {
   "cell_type": "code",
   "execution_count": 18,
   "metadata": {},
   "outputs": [],
   "source": [
    "### Creating Court Cases with a corresponding match to Westlaw Cases for\n",
    "### re-identification - hopefully not ;(\n",
    "westlaw = westlaw.select([\"Title\", \"CourtListenerCaseName\"]).unique()\n",
    "\n",
    "def create_westlaw_cases(tx, obs):\n",
    "    result = tx.run(\"\"\"\n",
    "        MERGE (c: Case {WestLawCaseName: $westlaw, CaseName: $courtlistener})\n",
    "        \"\"\", westlaw = obs[\"Title\"], courtlistener = obs[\"CourtListenerCaseName\"]\n",
    "    )\n",
    "\n",
    "    return result\n",
    "\n",
    "obs = westlaw.iter_rows(named=True)\n",
    "with GraphDatabase.driver(URI, auth=AUTH) as driver:\n",
    "    with driver.session(database=\"neo4j\") as session:\n",
    "         for ob in obs:\n",
    "            session.execute_write(create_westlaw_cases, ob)"
   ]
  },
  {
   "cell_type": "code",
   "execution_count": 12,
   "metadata": {},
   "outputs": [],
   "source": [
    "## Separately create those without match from Court Listener\n",
    "obs = wlnm.select([\"Title\", \"Citation\"]).iter_rows(named=True)\n",
    "\n",
    "def create_westlaw_nm_cases(tx, obs):\n",
    "    result = tx.run(\"\"\"\n",
    "        MERGE (c: Case {WestLawCaseName: $westlaw, Citation: $citation})\n",
    "        \"\"\", westlaw = obs[\"Title\"], citation = obs[\"Citation\"]\n",
    "    )\n",
    "\n",
    "    return result\n",
    "\n",
    "with GraphDatabase.driver(URI, auth=AUTH) as driver:\n",
    "    with driver.session(database=\"neo4j\") as session:\n",
    "         for ob in obs:\n",
    "            session.execute_write(create_westlaw_nm_cases, ob)"
   ]
  },
  {
   "cell_type": "code",
   "execution_count": 4,
   "metadata": {},
   "outputs": [],
   "source": [
    "## Create Case Clusters. This is based on CourtListener's structure of cases etc.\n",
    "\n",
    "cluster = opinions.select([\"OpinionURL\", \"CourtListenerCaseName\", \"ClusterID\", \"DocketID\"])\n",
    "\n",
    "def define_cluster_courtlistener(tx, obs):\n",
    "    result = tx.run(\"\"\"\n",
    "        MATCH (c: Case {CaseName: $courtlistener} )\n",
    "        SET c.OpinionURL = $OpinionURL, c.ClusterID = $ClusterID, c.DocketID = $DocketID\n",
    "        \"\"\", courtlistener = obs[\"CourtListenerCaseName\"], OpinionURL = obs[\"OpinionURL\"], ClusterID = obs[\"ClusterID\"], DocketID = obs[\"DocketID\"]\n",
    "    )\n",
    "\n",
    "    return result\n",
    "\n",
    "obs = cluster.iter_rows(named=True)\n",
    "with GraphDatabase.driver(URI, auth=AUTH) as driver:\n",
    "    with driver.session(database=\"neo4j\") as session:\n",
    "         for ob in obs:\n",
    "            session.execute_write(define_cluster_courtlistener, ob)"
   ]
  },
  {
   "cell_type": "code",
   "execution_count": 5,
   "metadata": {},
   "outputs": [],
   "source": [
    "## Create Opinions, linking them to the cases involved\n",
    "\n",
    "opinions = opinions.select([\"CourtListenerCaseName\", 'SubOpinions', 'PrecedentialStatus', 'OpinionType', 'Document']).unique()\n",
    "\n",
    "def create_opinions(tx, obs):\n",
    "    result = tx.run(\"\"\"\n",
    "        MERGE (o: Opinion {URL: $SubOpinions, PrecendentialStatus: $PrecedentialStatus, Type: $OpinionType, Document: $Document} )\n",
    "        WITH o\n",
    "        MATCH (c: Case {CaseName: $courtlistener})\n",
    "        MERGE (c)-[:HAS_OPINION]->(o)\n",
    "        \n",
    "        \"\"\", courtlistener = obs[\"CourtListenerCaseName\"], SubOpinions = obs[\"SubOpinions\"], PrecedentialStatus = obs[\"PrecedentialStatus\"], OpinionType = obs[\"OpinionType\"], Document = obs[\"Document\"]\n",
    "    )\n",
    "\n",
    "    return result\n",
    "\n",
    "obs = opinions.iter_rows(named=True)\n",
    "with GraphDatabase.driver(URI, auth=AUTH) as driver:\n",
    "    with driver.session(database=\"neo4j\") as session:\n",
    "         for ob in obs:\n",
    "            session.execute_write(create_opinions, ob)"
   ]
  },
  {
   "cell_type": "code",
   "execution_count": null,
   "metadata": {},
   "outputs": [],
   "source": [
    "## Create Opinions for WLNM\n",
    "obs = wlnm.select([\"Title\", \"Opinion\"]).iter_rows(named=True)\n",
    "\n",
    "def create_opinions_wlnm(tx, obs):\n",
    "    result = tx.run(\"\"\"\n",
    "        MERGE (o: Opinion {Document: $document} )\n",
    "        WITH o\n",
    "        MATCH (c: Case {WestLawCaseName: $title})\n",
    "        MERGE (c)-[:HAS_OPINION]->(o)\n",
    "        \n",
    "        \"\"\", document = obs[\"Opinion\"], title = obs[\"Title\"]\n",
    "    )\n",
    "\n",
    "    return result\n",
    "\n",
    "with GraphDatabase.driver(URI, auth=AUTH) as driver:\n",
    "    with driver.session(database=\"neo4j\") as session:\n",
    "         for ob in obs:\n",
    "            session.execute_write(create_opinions_wlnm, ob)"
   ]
  },
  {
   "cell_type": "code",
   "execution_count": 6,
   "metadata": {},
   "outputs": [],
   "source": [
    "def create_courts(tx, obs):\n",
    "    result = tx.run(\"\"\"\n",
    "        MERGE (c1: Court {Name: $start_name})\n",
    "        MERGE (c2: Court {Name: $end_name})\n",
    "        WITH c1, c2\n",
    "        MERGE (c1)-[:APPEALS_TO]->(c2)\n",
    "        \"\"\", start_name = obs[\"start_name\"], end_name = obs[\"end_name\"]\n",
    "    )\n",
    "\n",
    "    return result\n",
    "\n",
    "obs = appellate_relationships.iter_rows(named=True)\n",
    "with GraphDatabase.driver(URI, auth=AUTH) as driver:\n",
    "    with driver.session(database=\"neo4j\") as session:\n",
    "         for ob in obs:\n",
    "            session.execute_write(create_courts, ob)"
   ]
  },
  {
   "cell_type": "code",
   "execution_count": 7,
   "metadata": {},
   "outputs": [],
   "source": [
    "cl = cl.select([\"CourtListenerCaseName\", \"CourtID\", \"CourtURL\", \"Court\"]).unique()"
   ]
  },
  {
   "cell_type": "code",
   "execution_count": 18,
   "metadata": {},
   "outputs": [],
   "source": [
    "def create_case_citation(tx, obs):\n",
    "    result = tx.run(\"\"\"\n",
    "        MATCH (c1: Case {CaseName: $citer}), (c2: Case {WestLawCaseName: $citee})\n",
    "        WITH c1, c2\n",
    "        MERGE (c1)-[:CITED {Citation: $Citation}]->(c2)\n",
    "        \"\"\", citer = obs[\"CourtListenerCaseName\"], citee = obs[\"CitedCaseName\"], Citation = obs[\"Citation\"]\n",
    "    )\n",
    "    return result\n",
    "\n",
    "obs = citation.iter_rows(named=True)\n",
    "with GraphDatabase.driver(URI, auth=AUTH) as driver:\n",
    "    with driver.session(database=\"neo4j\") as session:\n",
    "         for ob in obs:\n",
    "            if ob[\"CourtListenerCaseName\"] != ob[\"CitedCaseName\"]:\n",
    "                session.execute_write(create_case_citation, ob)"
   ]
  },
  {
   "cell_type": "code",
   "execution_count": 19,
   "metadata": {},
   "outputs": [],
   "source": [
    "## Add Filing Date!\n",
    "fact_pattern = pl.read_csv(\"./Cases/Westlaw/Fair Use Fact Pattern Precision Search.csv\", truncate_ragged_lines=True)\n",
    "defense = pl.read_csv(\"./Cases/Westlaw/Fair Use Defense Precision Search.csv\", truncate_ragged_lines=True)\n",
    "\n",
    "westlaw = pl.concat([fact_pattern, defense])\n",
    "westlaw = westlaw.select([\"Title\", \"Court Line\", \"Citation\", \"Filed Date\"]).unique()"
   ]
  },
  {
   "cell_type": "code",
   "execution_count": 20,
   "metadata": {},
   "outputs": [],
   "source": [
    "def to_std_datetime(date_str):\n",
    "\n",
    "    try:\n",
    "        # Parse the string into a datetime object using the appropriate format\n",
    "        date_obj = datetime.strptime(date_str, \"%B %d, %Y\")\n",
    "        # Format the datetime object into the desired format\n",
    "        formatted_date = date_obj.strftime(\"%Y/%m/%d\")\n",
    "    \n",
    "        return formatted_date\n",
    "    \n",
    "    except:\n",
    "        return None"
   ]
  },
  {
   "cell_type": "code",
   "execution_count": null,
   "metadata": {},
   "outputs": [],
   "source": [
    "westlaw = westlaw.with_columns(\n",
    "    pl.col(\"Filed Date\").map_elements(to_std_datetime),\n",
    "    pl.col(\"Court Line\").replace(court_mapping)\n",
    ")\n",
    "\n",
    "top_court = westlaw.drop([\"Citation\", \"Court Line\"]).sort([\"Title\", \"Filed Date\"]).group_by([\"Title\"]).first()\n",
    "\n",
    "top_court = top_court.join(westlaw, on = [\"Title\", \"Filed Date\"], how = \"inner\")"
   ]
  },
  {
   "cell_type": "code",
   "execution_count": null,
   "metadata": {},
   "outputs": [],
   "source": [
    "def add_case_date_and_court(tx, obs):\n",
    "    result = tx.run(\"\"\"\n",
    "        MATCH (c1: Case {WestLawCaseName: $case})\n",
    "        SET c1.FiledDate = $date, c1.Citation = $citation\n",
    "        WITH c1\n",
    "        MATCH (court:Court {Name: $courtName})\n",
    "        MERGE (c1)-[:DECIDED_IN]->(court)\n",
    "        \"\"\", case = obs[\"Title\"], date = obs[\"Filed Date\"], courtName = obs[\"Court Line\"], citation = obs[\"Citation\"]\n",
    "    )\n",
    "    return result\n",
    "\n",
    "obs = westlaw.iter_rows(named=True)\n",
    "with GraphDatabase.driver(URI, auth=AUTH) as driver:\n",
    "    with driver.session(database=\"neo4j\") as session:\n",
    "         for ob in obs:\n",
    "            session.execute_write(add_case_date_and_court, ob)"
   ]
  },
  {
   "cell_type": "code",
   "execution_count": 26,
   "metadata": {},
   "outputs": [],
   "source": [
    "def remove_duplicated_cases(tx):\n",
    "    result = tx.run(\"\"\"\n",
    "        MATCH (n:Case)\n",
    "        WITH n.CaseName AS name, COLLECT(n) AS nodes\n",
    "        WHERE SIZE(nodes) > 1\n",
    "        UNWIND nodes AS n\n",
    "        WITH name, n ORDER BY n.FiledDate DESC // Correctly ordered in the main query\n",
    "        WITH name, COLLECT(n) AS sortedNodes\n",
    "        WITH sortedNodes[0] AS latest, sortedNodes[1..] AS duplicates\n",
    "        UNWIND duplicates AS duplicate\n",
    "        DETACH DELETE duplicate\"\"\"\n",
    "    )\n",
    "    return result\n",
    "\n",
    "\n",
    "with GraphDatabase.driver(URI, auth=AUTH) as driver:\n",
    "    with driver.session(database=\"neo4j\") as session:\n",
    "            session.execute_write(remove_duplicated_cases)\n"
   ]
  },
  {
   "cell_type": "code",
   "execution_count": 28,
   "metadata": {},
   "outputs": [],
   "source": [
    "def create_case_citation_wlnm(tx, obs):\n",
    "    result = tx.run(\"\"\"\n",
    "        MATCH (c1: Case {WestLawCaseName: $citer}), (c2: Case {WestLawCaseName: $citee})\n",
    "        WITH c1, c2\n",
    "        MERGE (c1)-[:CITED {Citation: $Citation}]->(c2)\n",
    "        \"\"\", citer = obs[\"Title\"], citee = obs[\"CitedCaseName\"], Citation = obs[\"Citation\"]\n",
    "    )\n",
    "    return result\n",
    "\n",
    "obs = wlnm_citation.iter_rows(named=True)\n",
    "with GraphDatabase.driver(URI, auth=AUTH) as driver:\n",
    "    with driver.session(database=\"neo4j\") as session:\n",
    "         for ob in obs:\n",
    "            if ob[\"Title\"] != ob[\"CitedCaseName\"]:\n",
    "                session.execute_write(create_case_citation_wlnm, ob)"
   ]
  },
  {
   "cell_type": "code",
   "execution_count": 37,
   "metadata": {},
   "outputs": [],
   "source": [
    "def delete_irrelevant_case(tx):\n",
    "    result = tx.run(\"\"\"\n",
    "        MATCH (c:Case {WestLawCaseName: $case})-[]-(o:Opinion)\n",
    "        DETACH DELETE o, c\n",
    "        \"\"\", case = \"Powell v. State\"\n",
    "    )\n",
    "    return result\n",
    "\n",
    "with GraphDatabase.driver(URI, auth=AUTH) as driver:\n",
    "    with driver.session(database=\"neo4j\") as session:\n",
    "        session.execute_write(delete_irrelevant_case)"
   ]
  },
  {
   "cell_type": "code",
   "execution_count": null,
   "metadata": {},
   "outputs": [],
   "source": [
    "def delete_self_citation(tx):\n",
    "    result = tx.run(\"\"\"\n",
    "        MATCH (c:Case)-[r:CITED]-(c)\n",
    "        DELETE r\n",
    "        \"\"\"\n",
    "    )\n",
    "    return result\n",
    "\n",
    "with GraphDatabase.driver(URI, auth=AUTH) as driver:\n",
    "    with driver.session(database=\"neo4j\") as session:\n",
    "        session.execute_write(delete_self_citation)"
   ]
  }
 ],
 "metadata": {
  "kernelspec": {
   "display_name": "Python 3",
   "language": "python",
   "name": "python3"
  },
  "language_info": {
   "codemirror_mode": {
    "name": "ipython",
    "version": 3
   },
   "file_extension": ".py",
   "mimetype": "text/x-python",
   "name": "python",
   "nbconvert_exporter": "python",
   "pygments_lexer": "ipython3",
   "version": "3.9.6"
  }
 },
 "nbformat": 4,
 "nbformat_minor": 2
}
