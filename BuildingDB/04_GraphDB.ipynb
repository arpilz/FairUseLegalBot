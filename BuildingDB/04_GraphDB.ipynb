{
 "cells": [
  {
   "cell_type": "code",
   "execution_count": 1,
   "metadata": {},
   "outputs": [],
   "source": [
    "import polars as pl\n",
    "from neo4j import GraphDatabase\n",
    "from datetime import datetime\n",
    "from util import court_mapping\n",
    "from google import genai\n",
    "import os\n",
    "import time\n",
    "from extract_instructions import facts_of_case, purpose_and_character, nature_of, amount_used, market_eff, weigh_four_factors\n",
    "\n",
    "instructions = {\n",
    "    'Facts': facts_of_case,\n",
    "    'Purpose': purpose_and_character,\n",
    "    'Nature': nature_of,\n",
    "    'Amount': amount_used,\n",
    "    'Market': market_eff,\n",
    "    'Combined': weigh_four_factors\n",
    "}\n",
    "\n",
    "client = genai.Client(api_key=os.environ[\"GEMINI_API\"])\n",
    "\n",
    "URI = \"bolt://localhost:7687\"\n",
    "AUTH = (\"neo4j\", \"fairusecases\")"
   ]
  },
  {
   "cell_type": "code",
   "execution_count": 17,
   "metadata": {},
   "outputs": [],
   "source": [
    "# Read all processed files\n",
    "westlaw = pl.read_csv(\"./Cases/WestLawMatch.csv\")\n",
    "opinions = pl.read_csv(\"./Cases/CourtListenerOpinions.csv\")\n",
    "cl = pl.read_csv(\"./Cases/CourtListenerWithCourt.csv\")\n",
    "appellate_relationships = pl.read_csv(\"./Cases/AppellateRelationship.csv\")\n",
    "citation = pl.read_csv(\"./Cases/CitationRelationship.csv\")"
   ]
  },
  {
   "cell_type": "code",
   "execution_count": 18,
   "metadata": {},
   "outputs": [],
   "source": [
    "### Creating Court Cases with a corresponding match to Westlaw Cases for\n",
    "### re-identification - hopefully not ;(\n",
    "westlaw = westlaw.select([\"Title\", \"CourtListenerCaseName\"]).unique()\n",
    "\n",
    "def create_westlaw_cases(tx, obs):\n",
    "    result = tx.run(\"\"\"\n",
    "        MERGE (c: Case {WestLawCaseName: $westlaw, CaseName: $courtlistener})\n",
    "        \"\"\", westlaw = obs[\"Title\"], courtlistener = obs[\"CourtListenerCaseName\"]\n",
    "    )\n",
    "\n",
    "    return result\n",
    "\n",
    "obs = westlaw.iter_rows(named=True)\n",
    "with GraphDatabase.driver(URI, auth=AUTH) as driver:\n",
    "    with driver.session(database=\"neo4j\") as session:\n",
    "         for ob in obs:\n",
    "            session.execute_write(create_westlaw_cases, ob)"
   ]
  },
  {
   "cell_type": "code",
   "execution_count": 19,
   "metadata": {},
   "outputs": [
    {
     "data": {
      "text/html": [
       "<div><style>\n",
       ".dataframe > thead > tr,\n",
       ".dataframe > tbody > tr {\n",
       "  text-align: right;\n",
       "  white-space: pre-wrap;\n",
       "}\n",
       "</style>\n",
       "<small>shape: (215, 2)</small><table border=\"1\" class=\"dataframe\"><thead><tr><th>Title</th><th>CourtListenerCaseName</th></tr><tr><td>str</td><td>str</td></tr></thead><tbody><tr><td>&quot;Galvin v. Illi…</td><td>&quot;Galvin v. Illi…</td></tr><tr><td>&quot;Bell v. Eagle …</td><td>&quot;Bell v. Eagle …</td></tr><tr><td>&quot;Universal City…</td><td>&quot;Universal City…</td></tr><tr><td>&quot;A.V. ex rel. V…</td><td>&quot;A v. Ex Rel. V…</td></tr><tr><td>&quot;Sofa Entertain…</td><td>&quot;SOFA Entertain…</td></tr><tr><td>&quot;Fisher v. Dees…</td><td>&quot;State ex rel. …</td></tr><tr><td>&quot;Straus v. DVC …</td><td>&quot;Straus v. DVC …</td></tr><tr><td>&quot;North Jersey M…</td><td>&quot;North Jersey M…</td></tr><tr><td>&quot;BMG Music v. G…</td><td>&quot;BMG Music v. G…</td></tr><tr><td>&quot;Monge v. Maya …</td><td>&quot;Noelia Monge v…</td></tr><tr><td>&quot;Suntrust Bank …</td><td>&quot;Suntrust Bank …</td></tr><tr><td>&quot;Weissmann v. F…</td><td>&quot;Weissmann v. F…</td></tr><tr><td>&hellip;</td><td>&hellip;</td></tr><tr><td>&quot;Original Appal…</td><td>&quot;Original Appal…</td></tr><tr><td>&quot;Hustler Magazi…</td><td>&quot;Hustler Magazi…</td></tr><tr><td>&quot;Sega Enterpris…</td><td>&quot;Sega Enterpris…</td></tr><tr><td>&quot;Golan v. Holde…</td><td>&quot;Golan v. Holde…</td></tr><tr><td>&quot;Bill Graham Ar…</td><td>&quot;Bill Graham Ar…</td></tr><tr><td>&quot;Dr. Seuss Ente…</td><td>&quot;Dr. Seuss Ente…</td></tr><tr><td>&quot;MCA, Inc. v. W…</td><td>&quot;MCA, Inc. v. W…</td></tr><tr><td>&quot;Lowry&#x27;s Report…</td><td>&quot;Lowry&#x27;s Report…</td></tr><tr><td>&quot;On Davis v. Th…</td><td>&quot;On Davis v. Th…</td></tr><tr><td>&quot;Worldwide Chur…</td><td>&quot;Worldwide Chur…</td></tr><tr><td>&quot;American Broad…</td><td>&quot;American Broad…</td></tr><tr><td>&quot;Tresóna Multim…</td><td>&quot;Tresona Multim…</td></tr></tbody></table></div>"
      ],
      "text/plain": [
       "shape: (215, 2)\n",
       "┌───────────────────────────────────┬───────────────────────────────────┐\n",
       "│ Title                             ┆ CourtListenerCaseName             │\n",
       "│ ---                               ┆ ---                               │\n",
       "│ str                               ┆ str                               │\n",
       "╞═══════════════════════════════════╪═══════════════════════════════════╡\n",
       "│ Galvin v. Illinois Republican Pa… ┆ Galvin v. Illinois Republican Pa… │\n",
       "│ Bell v. Eagle Mountain Saginaw I… ┆ Bell v. Eagle Mountain Saginaw    │\n",
       "│ Universal City Studios, Inc. v. … ┆ Universal City Studios, Inc. v. … │\n",
       "│ A.V. ex rel. Vanderhye v. iParad… ┆ A v. Ex Rel. Vanderhye v. Iparad… │\n",
       "│ …                                 ┆ …                                 │\n",
       "│ On Davis v. The Gap, Inc.         ┆ On Davis v. The Gap, Inc.         │\n",
       "│ Worldwide Church of God v. Phila… ┆ Worldwide Church of God v. Phila… │\n",
       "│ American Broadcasting Companies,… ┆ American Broadcasting Companies,… │\n",
       "│ Tresóna Multimedia, LLC v. Burba… ┆ Tresona Multimedia, LLC v. Burba… │\n",
       "└───────────────────────────────────┴───────────────────────────────────┘"
      ]
     },
     "execution_count": 19,
     "metadata": {},
     "output_type": "execute_result"
    }
   ],
   "source": [
    "westlaw"
   ]
  },
  {
   "cell_type": "code",
   "execution_count": 4,
   "metadata": {},
   "outputs": [],
   "source": [
    "## Create Case Clusters. This is based on CourtListener's structure of cases etc.\n",
    "\n",
    "cluster = opinions.select([\"OpinionURL\", \"CourtListenerCaseName\", \"ClusterID\", \"DocketID\"])\n",
    "\n",
    "def define_cluster_courtlistener(tx, obs):\n",
    "    result = tx.run(\"\"\"\n",
    "        MATCH (c: Case {CaseName: $courtlistener} )\n",
    "        SET c.OpinionURL = $OpinionURL, c.ClusterID = $ClusterID, c.DocketID = $DocketID\n",
    "        \"\"\", courtlistener = obs[\"CourtListenerCaseName\"], OpinionURL = obs[\"OpinionURL\"], ClusterID = obs[\"ClusterID\"], DocketID = obs[\"DocketID\"]\n",
    "    )\n",
    "\n",
    "    return result\n",
    "\n",
    "obs = cluster.iter_rows(named=True)\n",
    "with GraphDatabase.driver(URI, auth=AUTH) as driver:\n",
    "    with driver.session(database=\"neo4j\") as session:\n",
    "         for ob in obs:\n",
    "            session.execute_write(define_cluster_courtlistener, ob)"
   ]
  },
  {
   "cell_type": "code",
   "execution_count": 5,
   "metadata": {},
   "outputs": [],
   "source": [
    "## Create Opinions, linking them to the cases involved\n",
    "\n",
    "opinions = opinions.select([\"CourtListenerCaseName\", 'SubOpinions', 'PrecedentialStatus', 'OpinionType', 'Document']).unique()\n",
    "\n",
    "def create_opinions(tx, obs):\n",
    "    result = tx.run(\"\"\"\n",
    "        MERGE (o: Opinion {URL: $SubOpinions, PrecendentialStatus: $PrecedentialStatus, Type: $OpinionType, Document: $Document} )\n",
    "        WITH o\n",
    "        MATCH (c: Case {CaseName: $courtlistener})\n",
    "        MERGE (c)-[:HAS_OPINION]->(o)\n",
    "        \n",
    "        \"\"\", courtlistener = obs[\"CourtListenerCaseName\"], SubOpinions = obs[\"SubOpinions\"], PrecedentialStatus = obs[\"PrecedentialStatus\"], OpinionType = obs[\"OpinionType\"], Document = obs[\"Document\"]\n",
    "    )\n",
    "\n",
    "    return result\n",
    "\n",
    "obs = opinions.iter_rows(named=True)\n",
    "with GraphDatabase.driver(URI, auth=AUTH) as driver:\n",
    "    with driver.session(database=\"neo4j\") as session:\n",
    "         for ob in obs:\n",
    "            session.execute_write(create_opinions, ob)"
   ]
  },
  {
   "cell_type": "code",
   "execution_count": 6,
   "metadata": {},
   "outputs": [],
   "source": [
    "def create_courts(tx, obs):\n",
    "    result = tx.run(\"\"\"\n",
    "        MERGE (c1: Court {Name: $start_name})\n",
    "        MERGE (c2: Court {Name: $end_name})\n",
    "        WITH c1, c2\n",
    "        MERGE (c1)-[:APPEALS_TO]->(c2)\n",
    "        \"\"\", start_name = obs[\"start_name\"], end_name = obs[\"end_name\"]\n",
    "    )\n",
    "\n",
    "    return result\n",
    "\n",
    "obs = appellate_relationships.iter_rows(named=True)\n",
    "with GraphDatabase.driver(URI, auth=AUTH) as driver:\n",
    "    with driver.session(database=\"neo4j\") as session:\n",
    "         for ob in obs:\n",
    "            session.execute_write(create_courts, ob)"
   ]
  },
  {
   "cell_type": "code",
   "execution_count": 7,
   "metadata": {},
   "outputs": [],
   "source": [
    "cl = cl.select([\"CourtListenerCaseName\", \"CourtID\", \"CourtURL\", \"Court\"]).unique()"
   ]
  },
  {
   "cell_type": "code",
   "execution_count": 8,
   "metadata": {},
   "outputs": [],
   "source": [
    "def create_case_citation(tx, obs):\n",
    "    result = tx.run(\"\"\"\n",
    "        MATCH (c1: Case {CaseName: $citer}), (c2: Case {CaseName: $citee})\n",
    "        WITH c1, c2\n",
    "        MERGE (c1)-[:CITED {Citation: $Citation}]->(c2)\n",
    "        \"\"\", citer = obs[\"CourtListenerCaseName\"], citee = obs[\"CitedCaseName\"], Citation = obs[\"Citation\"]\n",
    "    )\n",
    "    return result\n",
    "\n",
    "obs = citation.iter_rows(named=True)\n",
    "with GraphDatabase.driver(URI, auth=AUTH) as driver:\n",
    "    with driver.session(database=\"neo4j\") as session:\n",
    "         for ob in obs:\n",
    "            if ob[\"CourtListenerCaseName\"] != ob[\"CitedCaseName\"]:\n",
    "                session.execute_write(create_case_citation, ob)"
   ]
  },
  {
   "cell_type": "code",
   "execution_count": 9,
   "metadata": {},
   "outputs": [],
   "source": [
    "## Add Filing Date!\n",
    "fact_pattern = pl.read_csv(\"./Cases/Westlaw/Fair Use Fact Pattern Precision Search.csv\", truncate_ragged_lines=True)\n",
    "defense = pl.read_csv(\"./Cases/Westlaw/Fair Use Defense Precision Search.csv\", truncate_ragged_lines=True)\n",
    "\n",
    "westlaw = pl.concat([fact_pattern, defense])\n",
    "westlaw = westlaw.select([\"Title\", \"Court Line\", \"Citation\", \"Filed Date\"]).unique()"
   ]
  },
  {
   "cell_type": "code",
   "execution_count": 10,
   "metadata": {},
   "outputs": [],
   "source": [
    "def to_std_datetime(date_str):\n",
    "\n",
    "    try:\n",
    "        # Parse the string into a datetime object using the appropriate format\n",
    "        date_obj = datetime.strptime(date_str, \"%B %d, %Y\")\n",
    "        # Format the datetime object into the desired format\n",
    "        formatted_date = date_obj.strftime(\"%Y/%m/%d\")\n",
    "    \n",
    "        return formatted_date\n",
    "    \n",
    "    except:\n",
    "        return None"
   ]
  },
  {
   "cell_type": "code",
   "execution_count": 11,
   "metadata": {},
   "outputs": [],
   "source": [
    "westlaw = westlaw.with_columns(\n",
    "    pl.col(\"Filed Date\").map_elements(to_std_datetime),\n",
    "    pl.col(\"Court Line\").replace(court_mapping)\n",
    ")"
   ]
  },
  {
   "cell_type": "code",
   "execution_count": 12,
   "metadata": {},
   "outputs": [],
   "source": [
    "top_court = westlaw.drop([\"Citation\", \"Court Line\"]).sort([\"Title\", \"Filed Date\"]).group_by([\"Title\"]).first()"
   ]
  },
  {
   "cell_type": "code",
   "execution_count": 13,
   "metadata": {},
   "outputs": [],
   "source": [
    "top_court = top_court.join(westlaw, on = [\"Title\", \"Filed Date\"], how = \"inner\")"
   ]
  },
  {
   "cell_type": "code",
   "execution_count": 14,
   "metadata": {},
   "outputs": [],
   "source": [
    "def add_case_date_and_court(tx, obs):\n",
    "    result = tx.run(\"\"\"\n",
    "        MATCH (c1: Case {WestLawCaseName: $case})\n",
    "        SET c1.FiledDate = $date, c1.Citation = $citation\n",
    "        WITH c1\n",
    "        MATCH (court:Court {Name: $courtName})\n",
    "        MERGE (c1)-[:DECIDED_IN]->(court)\n",
    "        \"\"\", case = obs[\"Title\"], date = obs[\"Filed Date\"], courtName = obs[\"Court Line\"], citation = obs[\"Citation\"]\n",
    "    )\n",
    "    return result\n"
   ]
  },
  {
   "cell_type": "code",
   "execution_count": 15,
   "metadata": {},
   "outputs": [],
   "source": [
    "obs = westlaw.iter_rows(named=True)\n",
    "with GraphDatabase.driver(URI, auth=AUTH) as driver:\n",
    "    with driver.session(database=\"neo4j\") as session:\n",
    "         for ob in obs:\n",
    "            session.execute_write(add_case_date_and_court, ob)"
   ]
  },
  {
   "cell_type": "code",
   "execution_count": 21,
   "metadata": {},
   "outputs": [],
   "source": [
    "def remove_duplicated_cases(tx):\n",
    "    result = tx.run(\"\"\"\n",
    "        MATCH (n:Case)\n",
    "        WITH n.CaseName AS name, COLLECT(n) AS nodes\n",
    "        WHERE SIZE(nodes) > 1\n",
    "        UNWIND nodes AS n\n",
    "        WITH name, n ORDER BY n.FiledDate DESC // Correctly ordered in the main query\n",
    "        WITH name, COLLECT(n) AS sortedNodes\n",
    "        WITH sortedNodes[0] AS latest, sortedNodes[1..] AS duplicates\n",
    "        UNWIND duplicates AS duplicate\n",
    "        DETACH DELETE duplicate\"\"\"\n",
    "    )\n",
    "    return result\n",
    "\n",
    "\n",
    "with GraphDatabase.driver(URI, auth=AUTH) as driver:\n",
    "    with driver.session(database=\"neo4j\") as session:\n",
    "            session.execute_write(add_case_date_and_court)\n"
   ]
  },
  {
   "cell_type": "code",
   "execution_count": 2,
   "metadata": {},
   "outputs": [],
   "source": [
    "def opinion_does_not_have_facts(tx):\n",
    "    \n",
    "    results = tx.run(\"\"\"\n",
    "        MATCH (o:Opinion)\n",
    "        WHERE NOT EXISTS {\n",
    "            MATCH (o)<-[:OF]-(:Facts)\n",
    "        }\n",
    "        RETURN o.URL as url, o.Document as Document\n",
    "        \"\"\"\n",
    "    )\n",
    "         \n",
    "    return results.to_df()\n",
    "\n",
    "\n",
    "with GraphDatabase.driver(URI, auth=AUTH) as driver:\n",
    "    with driver.session(database=\"neo4j\") as session:\n",
    "            no_facts = session.execute_read(opinion_does_not_have_facts)"
   ]
  },
  {
   "cell_type": "code",
   "execution_count": 3,
   "metadata": {},
   "outputs": [],
   "source": [
    "def extraction(instruction: str, document: str):\n",
    "\n",
    "    try:\n",
    "        response = client.models.generate_content(\n",
    "            model = \"gemini-2.0-flash\",\n",
    "            contents = instruction + \"\\n\\n\" + document\n",
    "        )\n",
    "\n",
    "        time.sleep(10)\n",
    "\n",
    "        return response.text\n",
    "    \n",
    "    except:\n",
    "\n",
    "        print(\"Going to Sleep!\")\n",
    "        time.sleep(60)\n",
    "\n",
    "        return None"
   ]
  }
 ],
 "metadata": {
  "kernelspec": {
   "display_name": "Python 3",
   "language": "python",
   "name": "python3"
  },
  "language_info": {
   "codemirror_mode": {
    "name": "ipython",
    "version": 3
   },
   "file_extension": ".py",
   "mimetype": "text/x-python",
   "name": "python",
   "nbconvert_exporter": "python",
   "pygments_lexer": "ipython3",
   "version": "3.9.6"
  }
 },
 "nbformat": 4,
 "nbformat_minor": 2
}
