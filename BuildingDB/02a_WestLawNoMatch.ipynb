{
 "cells": [
  {
   "cell_type": "code",
   "execution_count": null,
   "metadata": {},
   "outputs": [],
   "source": [
    "import polars as pl\n",
    "import os\n",
    "from util import pdf_to_text, best_fuzzy_match"
   ]
  },
  {
   "cell_type": "code",
   "execution_count": null,
   "metadata": {},
   "outputs": [
    {
     "data": {
      "text/html": [
       "<div><style>\n",
       ".dataframe > thead > tr,\n",
       ".dataframe > tbody > tr {\n",
       "  text-align: right;\n",
       "  white-space: pre-wrap;\n",
       "}\n",
       "</style>\n",
       "<small>shape: (5, 6)</small><table border=\"1\" class=\"dataframe\"><thead><tr><th>Title</th><th>Court Line</th><th>Citation</th><th>OpinionURL</th><th>CourtListenerCaseName</th><th>Match</th></tr><tr><td>str</td><td>str</td><td>str</td><td>str</td><td>str</td><td>i64</td></tr></thead><tbody><tr><td>&quot;O&#x27;Neil v. Rata…</td><td>&quot;United States …</td><td>&quot;563 F.Supp.3d …</td><td>null</td><td>null</td><td>0</td></tr><tr><td>&quot;Furie v. Infow…</td><td>&quot;United States …</td><td>&quot;401 F.Supp.3d …</td><td>null</td><td>null</td><td>0</td></tr><tr><td>&quot;Advanta-STAR A…</td><td>&quot;United States …</td><td>&quot;672 F.Supp.3d …</td><td>null</td><td>null</td><td>0</td></tr><tr><td>&quot;4DD Holdings, …</td><td>&quot;United States …</td><td>&quot;143 Fed.Cl. 11…</td><td>null</td><td>null</td><td>0</td></tr><tr><td>&quot;Apple Inc. v. …</td><td>&quot;United States …</td><td>&quot;510 F.Supp.3d …</td><td>null</td><td>null</td><td>0</td></tr></tbody></table></div>"
      ],
      "text/plain": [
       "shape: (5, 6)\n",
       "┌───────────────────┬───────────────────┬──────────────────┬────────────┬──────────────────┬───────┐\n",
       "│ Title             ┆ Court Line        ┆ Citation         ┆ OpinionURL ┆ CourtListenerCas ┆ Match │\n",
       "│ ---               ┆ ---               ┆ ---              ┆ ---        ┆ eName            ┆ ---   │\n",
       "│ str               ┆ str               ┆ str              ┆ str        ┆ ---              ┆ i64   │\n",
       "│                   ┆                   ┆                  ┆            ┆ str              ┆       │\n",
       "╞═══════════════════╪═══════════════════╪══════════════════╪════════════╪══════════════════╪═══════╡\n",
       "│ O'Neil v.         ┆ United States     ┆ 563 F.Supp.3d    ┆ null       ┆ null             ┆ 0     │\n",
       "│ Ratajkowski       ┆ District Court,   ┆ 112              ┆            ┆                  ┆       │\n",
       "│                   ┆ S.…               ┆                  ┆            ┆                  ┆       │\n",
       "│ Furie v.          ┆ United States     ┆ 401 F.Supp.3d    ┆ null       ┆ null             ┆ 0     │\n",
       "│ Infowars, LLC     ┆ District Court,   ┆ 952              ┆            ┆                  ┆       │\n",
       "│                   ┆ C.…               ┆                  ┆            ┆                  ┆       │\n",
       "│ Advanta-STAR      ┆ United States     ┆ 672 F.Supp.3d    ┆ null       ┆ null             ┆ 0     │\n",
       "│ Automotive        ┆ District Court,   ┆ 1035             ┆            ┆                  ┆       │\n",
       "│ Research…         ┆ S.…               ┆                  ┆            ┆                  ┆       │\n",
       "│ 4DD Holdings, LLC ┆ United States     ┆ 143 Fed.Cl. 118  ┆ null       ┆ null             ┆ 0     │\n",
       "│ v. United Stat…   ┆ Court of Federal  ┆                  ┆            ┆                  ┆       │\n",
       "│                   ┆ C…                ┆                  ┆            ┆                  ┆       │\n",
       "│ Apple Inc. v.     ┆ United States     ┆ 510 F.Supp.3d    ┆ null       ┆ null             ┆ 0     │\n",
       "│ Corellium, LLC    ┆ District Court,   ┆ 1269             ┆            ┆                  ┆       │\n",
       "│                   ┆ S.…               ┆                  ┆            ┆                  ┆       │\n",
       "└───────────────────┴───────────────────┴──────────────────┴────────────┴──────────────────┴───────┘"
      ]
     },
     "execution_count": 16,
     "metadata": {},
     "output_type": "execute_result"
    }
   ],
   "source": [
    "ms_cases = [c.replace(\".pdf\", \"\") for c in os.listdir(\"Cases/ManuallyScrapedCases/\")]\n",
    "df = pl.read_csv(\"./Cases/WestLawNotMatch.csv\")\n",
    "df.head()"
   ]
  },
  {
   "cell_type": "code",
   "execution_count": null,
   "metadata": {},
   "outputs": [],
   "source": [
    "df = df.with_columns(\n",
    "    pl.col(\"Title\").map_elements(lambda x: best_fuzzy_match(x, choices=ms_cases)[0]+\".pdf\").alias(\"Matched\"),\n",
    "    pl.col(\"Title\").map_elements(lambda x: best_fuzzy_match(x, choices=ms_cases)[1]).alias(\"MatchedScore\")\n",
    ").sort(\"MatchedScore\")"
   ]
  },
  {
   "cell_type": "code",
   "execution_count": 24,
   "metadata": {},
   "outputs": [],
   "source": [
    "df = df.filter( pl.col(\"MatchedScore\") > 49).with_columns(\n",
    "    pl.col(\"Matched\").map_elements(lambda x: pdf_to_text(\"./Cases/ManuallyScrapedCases/\" + x)).alias(\"Opinion\")\n",
    ")"
   ]
  },
  {
   "cell_type": "code",
   "execution_count": 31,
   "metadata": {},
   "outputs": [],
   "source": [
    "df.write_csv(\"./Cases/WLNM_Opinion.csv\")"
   ]
  }
 ],
 "metadata": {
  "kernelspec": {
   "display_name": "Python 3",
   "language": "python",
   "name": "python3"
  },
  "language_info": {
   "codemirror_mode": {
    "name": "ipython",
    "version": 3
   },
   "file_extension": ".py",
   "mimetype": "text/x-python",
   "name": "python",
   "nbconvert_exporter": "python",
   "pygments_lexer": "ipython3",
   "version": "3.9.6"
  }
 },
 "nbformat": 4,
 "nbformat_minor": 2
}
