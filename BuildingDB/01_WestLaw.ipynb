{
 "cells": [
  {
   "cell_type": "code",
   "execution_count": 2,
   "metadata": {},
   "outputs": [],
   "source": [
    "import polars as pl\n",
    "import requests\n",
    "import os\n",
    "import urllib.parse\n",
    "from fuzzywuzzy import fuzz\n",
    "\n",
    "API_KEY = os.environ[\"CL_API_KEY\"]"
   ]
  },
  {
   "cell_type": "code",
   "execution_count": 3,
   "metadata": {},
   "outputs": [],
   "source": [
    "fact_pattern = pl.read_csv(\"./Cases/Westlaw/Fair Use Fact Pattern Precision Search.csv\", truncate_ragged_lines=True)\n",
    "defense = pl.read_csv(\"./Cases/Westlaw/Fair Use Defense Precision Search.csv\", truncate_ragged_lines=True)"
   ]
  },
  {
   "cell_type": "code",
   "execution_count": null,
   "metadata": {},
   "outputs": [
    {
     "data": {
      "text/html": [
       "<div><style>\n",
       ".dataframe > thead > tr,\n",
       ".dataframe > tbody > tr {\n",
       "  text-align: right;\n",
       "  white-space: pre-wrap;\n",
       "}\n",
       "</style>\n",
       "<small>shape: (5, 3)</small><table border=\"1\" class=\"dataframe\"><thead><tr><th>Title</th><th>Court Line</th><th>Citation</th></tr><tr><td>str</td><td>str</td><td>str</td></tr></thead><tbody><tr><td>&quot;Lombardo v. Dr…</td><td>&quot;United States …</td><td>&quot;279 F.Supp.3d …</td></tr><tr><td>&quot;Hosseinzadeh v…</td><td>&quot;United States …</td><td>&quot;276 F.Supp.3d …</td></tr><tr><td>&quot;TCA Television…</td><td>&quot;United States …</td><td>&quot;839 F.3d 168&quot;</td></tr><tr><td>&quot;Perfect 10, In…</td><td>&quot;United States …</td><td>&quot;508 F.3d 1146&quot;</td></tr><tr><td>&quot;Basic Books, I…</td><td>&quot;United States …</td><td>&quot;758 F.Supp. 15…</td></tr></tbody></table></div>"
      ],
      "text/plain": [
       "shape: (5, 3)\n",
       "┌───────────────────────────────────┬───────────────────────────────────┬───────────────────┐\n",
       "│ Title                             ┆ Court Line                        ┆ Citation          │\n",
       "│ ---                               ┆ ---                               ┆ ---               │\n",
       "│ str                               ┆ str                               ┆ str               │\n",
       "╞═══════════════════════════════════╪═══════════════════════════════════╪═══════════════════╡\n",
       "│ Lombardo v. Dr. Seuss Enterprise… ┆ United States District Court, S.… ┆ 279 F.Supp.3d 497 │\n",
       "│ Hosseinzadeh v. Klein             ┆ United States District Court, S.… ┆ 276 F.Supp.3d 34  │\n",
       "│ TCA Television Corp. v. McCollum  ┆ United States Court of Appeals, … ┆ 839 F.3d 168      │\n",
       "│ Perfect 10, Inc. v. Amazon.com, … ┆ United States Court of Appeals, … ┆ 508 F.3d 1146     │\n",
       "│ Basic Books, Inc. v. Kinko's Gra… ┆ United States District Court, S.… ┆ 758 F.Supp. 1522  │\n",
       "└───────────────────────────────────┴───────────────────────────────────┴───────────────────┘"
      ]
     },
     "execution_count": 4,
     "metadata": {},
     "output_type": "execute_result"
    }
   ],
   "source": [
    "westlaw = pl.concat([fact_pattern, defense])\n",
    "westlaw = westlaw.select([\"Title\", \"Court Line\", \"Citation\", \"Filed Date\"]).unique()\n",
    "\n",
    "westlaw.head()"
   ]
  },
  {
   "cell_type": "code",
   "execution_count": null,
   "metadata": {},
   "outputs": [],
   "source": [
    "def find_opinion_by_case_name(case_name):\n",
    "\n",
    "    case_name = urllib.parse.quote(case_name)\n",
    "\n",
    "    URL = f\"https://www.courtlistener.com/api/rest/v4/search/?type=o&q='{case_name}'\"\n",
    "\n",
    "    # defining a params dict for the parameters to be sent to the API\n",
    "    header =  {\"Authorization\": f\"Token {API_KEY}\"}\n",
    "\n",
    "    # sending get request and saving the response as response object\n",
    "    r = requests.get(url = URL, headers = header)\n",
    "\n",
    "    if r.ok:\n",
    "\n",
    "        try:\n",
    "            url = r.json()[\"results\"][0]['absolute_url']\n",
    "            case_name = r.json()[\"results\"][0]['caseName']\n",
    "\n",
    "            return url, case_name\n",
    "        \n",
    "        except IndexError:\n",
    "            \n",
    "            return None, None\n",
    "        "
   ]
  },
  {
   "cell_type": "code",
   "execution_count": 82,
   "metadata": {},
   "outputs": [],
   "source": [
    "westlaw = westlaw.with_columns(\n",
    "    pl.col(\"Title\").map_elements(find_opinion_by_case_name).alias(\"cases\")\n",
    ")"
   ]
  },
  {
   "cell_type": "code",
   "execution_count": 86,
   "metadata": {},
   "outputs": [],
   "source": [
    "westlaw = westlaw.with_columns(\n",
    "    pl.col(\"cases\").map_elements(lambda x: x[0]).alias(\"OpinionURL\"),\n",
    "    pl.col(\"cases\").map_elements(lambda x: x[1]).alias(\"CourtListenerCaseName\")\n",
    ").drop(\"cases\")"
   ]
  },
  {
   "cell_type": "code",
   "execution_count": null,
   "metadata": {},
   "outputs": [],
   "source": [
    "westlaw = westlaw.with_columns(\n",
    "    pl.struct([\"Title\", \"CourtListenerCaseName\"]).map_elements(lambda x: fuzz.token_set_ratio(x[\"Title\"], x[\"CourtListenerCaseName\"])).alias(\"Match\")\n",
    ").filter( pl.col(\"Match\") < 95 ).sort( by = \"Match\")"
   ]
  },
  {
   "cell_type": "code",
   "execution_count": 77,
   "metadata": {},
   "outputs": [],
   "source": [
    "def find_opinion_by_citation(case_citation):\n",
    "\n",
    "    header =  {\"Authorization\": f\"Token {API_KEY}\"}\n",
    "\n",
    "    URL = f\"https://www.courtlistener.com/api/rest/v4/citation-lookup/\"\n",
    "\n",
    "    data = {\"text\": case_citation}\n",
    "\n",
    "    # sending get request and saving the response as response object\n",
    "    r = requests.post(url = URL, headers = header, data = data)\n",
    "\n",
    "    if r.ok:\n",
    "        response = r.json()\n",
    "\n",
    "        \n",
    "        if len(response) == 1:\n",
    "            response = response[0]\n",
    "\n",
    "            if response[\"status\"] != 200:\n",
    "                return None\n",
    "            \n",
    "            else:\n",
    "\n",
    "                cluster_id = response[\"clusters\"][0][\"id\"]\n",
    "                url = response[\"clusters\"][0][\"absolute_url\"]\n",
    "                docket_id = response[\"clusters\"][0][\"docket_id\"]\n",
    "\n",
    "                return cluster_id, url, docket_id\n",
    "        \n",
    "        else:\n",
    "            \n",
    "            return None"
   ]
  },
  {
   "cell_type": "code",
   "execution_count": null,
   "metadata": {},
   "outputs": [],
   "source": []
  }
 ],
 "metadata": {
  "kernelspec": {
   "display_name": "Python 3",
   "language": "python",
   "name": "python3"
  },
  "language_info": {
   "codemirror_mode": {
    "name": "ipython",
    "version": 3
   },
   "file_extension": ".py",
   "mimetype": "text/x-python",
   "name": "python",
   "nbconvert_exporter": "python",
   "pygments_lexer": "ipython3",
   "version": "3.9.6"
  }
 },
 "nbformat": 4,
 "nbformat_minor": 2
}
