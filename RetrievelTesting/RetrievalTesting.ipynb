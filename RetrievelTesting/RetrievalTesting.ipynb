{
 "cells": [
  {
   "cell_type": "code",
   "execution_count": 1,
   "metadata": {},
   "outputs": [],
   "source": [
    "import polars as pl\n",
    "from neo4j import GraphDatabase\n",
    "from embedder import Retriever, Gemini_Embeddings\n",
    "\n",
    "## Database Connections\n",
    "URI = \"bolt://localhost:7687\"\n",
    "AUTH = (\"neo4j\", \"fairusecases\")\n",
    "\n",
    "driver = GraphDatabase.driver(URI, auth=AUTH)"
   ]
  },
  {
   "cell_type": "code",
   "execution_count": 2,
   "metadata": {},
   "outputs": [
    {
     "name": "stdout",
     "output_type": "stream",
     "text": [
      "Connection verified!\n"
     ]
    }
   ],
   "source": [
    "# Simple function to verify connection\n",
    "def verify_connection():\n",
    "    try:\n",
    "        with driver.session() as session:\n",
    "            result = session.run(\"RETURN 1\")\n",
    "            value = result.single()[0]\n",
    "            if value == 1:\n",
    "                print(\"Connection verified!\")\n",
    "            else:\n",
    "                print(\"Connection failed.\")\n",
    "    except Exception as e:\n",
    "        print(f\"Error connecting to Neo4j: {e}\")\n",
    "    finally:\n",
    "        driver.close()\n",
    "\n",
    "verify_connection()"
   ]
  },
  {
   "cell_type": "code",
   "execution_count": 3,
   "metadata": {},
   "outputs": [],
   "source": [
    "retriever = Retriever(Gemini_Embeddings(), driver)"
   ]
  },
  {
   "cell_type": "code",
   "execution_count": 4,
   "metadata": {},
   "outputs": [],
   "source": [
    "df = pl.read_csv(\"./Data/case_complaints.csv\")"
   ]
  },
  {
   "cell_type": "code",
   "execution_count": 5,
   "metadata": {},
   "outputs": [],
   "source": [
    "def get_retrieved_cases(text, text_sim, court_weight, cit_weight, retriever=retriever):\n",
    "    \n",
    "    df_cases = retriever.search_similar_cases(text, 10, text_sim, court_weight, cit_weight)\n",
    "\n",
    "    cases = df_cases[\"Case\"].to_list()\n",
    "    text_similarities = df_cases[\"TextSimilarity\"].to_list()\n",
    "    pagerank = df_cases[\"CasePageRank\"].to_list()\n",
    "    courts = df_cases[\"CourtName\"].to_list()\n",
    "\n",
    "    return {\"cases\": cases, \"text_sim\": text_similarities, \"pagerank\": pagerank, \"court\": courts}"
   ]
  },
  {
   "cell_type": "code",
   "execution_count": 6,
   "metadata": {},
   "outputs": [],
   "source": [
    "df_standard_RAG = df.with_columns(\n",
    "    pl.col(\"Complaint\").map_elements(lambda x: get_retrieved_cases(x, 1, 0, 0)).alias(\"retrieved\")\n",
    ").unnest(\"retrieved\")"
   ]
  },
  {
   "cell_type": "code",
   "execution_count": 7,
   "metadata": {},
   "outputs": [],
   "source": [
    "df_standard_RAG.explode([\"cases\",\t\"text_sim\",\t\"pagerank\",\t\"court\"]).write_csv(\"./Data/StandardRAGRetrieval.csv\")"
   ]
  },
  {
   "cell_type": "markdown",
   "metadata": {},
   "source": []
  },
  {
   "cell_type": "code",
   "execution_count": 8,
   "metadata": {},
   "outputs": [],
   "source": [
    "df_pagerank = df.with_columns(\n",
    "    pl.col(\"Complaint\").map_elements(lambda x: get_retrieved_cases(x, .33, .33, .33)).alias(\"retrieved\")\n",
    ").unnest(\"retrieved\")"
   ]
  },
  {
   "cell_type": "code",
   "execution_count": 9,
   "metadata": {},
   "outputs": [],
   "source": [
    "df_pagerank.explode([\"cases\",\t\"text_sim\",\t\"pagerank\",\t\"court\"]).write_csv(\"./Data/PRRAGRetrieval.csv\")"
   ]
  },
  {
   "cell_type": "code",
   "execution_count": 10,
   "metadata": {},
   "outputs": [
    {
     "ename": "TypeError",
     "evalue": "search_similar_cases() missing 5 required positional arguments: 'text', 'top_k', 'similarity_weight', 'court_weight', and 'case_weight'",
     "output_type": "error",
     "traceback": [
      "\u001b[0;31m---------------------------------------------------------------------------\u001b[0m",
      "\u001b[0;31mTypeError\u001b[0m                                 Traceback (most recent call last)",
      "Cell \u001b[0;32mIn[10], line 1\u001b[0m\n\u001b[0;32m----> 1\u001b[0m \u001b[43mretriever\u001b[49m\u001b[38;5;241;43m.\u001b[39;49m\u001b[43msearch_similar_cases\u001b[49m\u001b[43m(\u001b[49m\u001b[43m)\u001b[49m\n",
      "\u001b[0;31mTypeError\u001b[0m: search_similar_cases() missing 5 required positional arguments: 'text', 'top_k', 'similarity_weight', 'court_weight', and 'case_weight'"
     ]
    }
   ],
   "source": [
    "retriever.search_similar_cases()"
   ]
  },
  {
   "cell_type": "code",
   "execution_count": null,
   "metadata": {},
   "outputs": [],
   "source": [
    "retriever.search_similar_cases(\"HHHH\", 10, 1, 0, 0)"
   ]
  },
  {
   "cell_type": "code",
   "execution_count": null,
   "metadata": {},
   "outputs": [],
   "source": []
  },
  {
   "cell_type": "code",
   "execution_count": null,
   "metadata": {},
   "outputs": [],
   "source": [
    "similarity_weight = 0.3\n",
    "court_weight = 0.3\n",
    "case_weight = 0.4\n",
    "df = pl.read_csv(\"./cases.csv\")"
   ]
  },
  {
   "cell_type": "code",
   "execution_count": null,
   "metadata": {},
   "outputs": [],
   "source": [
    "num_docs = 5"
   ]
  },
  {
   "cell_type": "code",
   "execution_count": null,
   "metadata": {},
   "outputs": [],
   "source": [
    "df.with_columns(\n",
    "    (pl.col(\"score\") - pl.col(\"score\").min())/((pl.col(\"score\").max() - pl.col(\"score\").min())),\n",
    "    (pl.col(\"CasePageRank\") - pl.col(\"CasePageRank\").min())/((pl.col(\"CasePageRank\").max() - pl.col(\"CasePageRank\").min())),\n",
    "    (pl.col(\"CourtPageRank\") - pl.col(\"CourtPageRank\").min())/((pl.col(\"CourtPageRank\").max() - pl.col(\"CourtPageRank\").min()))\n",
    ").with_columns(\n",
    "    pl.struct([\"score\", \"CasePageRank\", \"CourtPageRank\"]).map_elements(lambda x: similarity_weight*x[\"score\"] + court_weight*x[\"CourtPageRank\"] + case_weight*x[\"CasePageRank\"]).alias(\"FinalScore\")\n",
    ").group_by([\"Case\", \"FiledDate\", \"CourtName\"]).max().sort(\"FinalScore\", descending = True).top_k(num_docs, by = \"FinalScore\")"
   ]
  },
  {
   "cell_type": "code",
   "execution_count": null,
   "metadata": {},
   "outputs": [],
   "source": []
  }
 ],
 "metadata": {
  "kernelspec": {
   "display_name": "Python 3",
   "language": "python",
   "name": "python3"
  },
  "language_info": {
   "codemirror_mode": {
    "name": "ipython",
    "version": 3
   },
   "file_extension": ".py",
   "mimetype": "text/x-python",
   "name": "python",
   "nbconvert_exporter": "python",
   "pygments_lexer": "ipython3",
   "version": "3.9.6"
  }
 },
 "nbformat": 4,
 "nbformat_minor": 2
}
