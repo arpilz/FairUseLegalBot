{
 "cells": [
  {
   "cell_type": "code",
   "execution_count": 1,
   "metadata": {},
   "outputs": [],
   "source": [
    "import polars as pl\n",
    "from neo4j import GraphDatabase\n",
    "from embedder import Retriever, Gemini_Embeddings\n",
    "\n",
    "## Database Connections\n",
    "URI = \"bolt://localhost:7687\"\n",
    "AUTH = (\"neo4j\", \"fairusecases\")\n",
    "\n",
    "driver = GraphDatabase.driver(URI, auth=AUTH)"
   ]
  },
  {
   "cell_type": "code",
   "execution_count": null,
   "metadata": {},
   "outputs": [],
   "source": [
    "retriever = Retriever(Gemini_Embeddings(), driver)\n",
    "df = pl.read_csv(\"../Data/case_complaints.csv\")"
   ]
  },
  {
   "cell_type": "code",
   "execution_count": null,
   "metadata": {},
   "outputs": [],
   "source": [
    "## Helper function to get all the cases\n",
    "def get_retrieved_cases(text, text_sim, court_weight, cit_weight, retriever=retriever):\n",
    "    \n",
    "    df_cases = retriever.search_similar_cases(text, 10, text_sim, court_weight, cit_weight)\n",
    "\n",
    "    cases = df_cases[\"Case\"].to_list()\n",
    "    text_similarities = df_cases[\"TextSimilarity\"].to_list()\n",
    "    pagerank = df_cases[\"CasePageRank\"].to_list()\n",
    "    courts = df_cases[\"CourtName\"].to_list()\n",
    "\n",
    "    return {\"cases\": cases, \"text_sim\": text_similarities, \"pagerank\": pagerank, \"court\": courts}"
   ]
  },
  {
   "cell_type": "code",
   "execution_count": null,
   "metadata": {},
   "outputs": [],
   "source": [
    "## Standard RAG\n",
    "df_standard_RAG = df.with_columns(\n",
    "    pl.col(\"Complaint\").map_elements(lambda x: get_retrieved_cases(x, 1, 0, 0)).alias(\"retrieved\")\n",
    ").unnest(\"retrieved\")\n",
    "\n",
    "df_standard_RAG.explode([\"cases\", \"text_sim\",\t\"pagerank\",\t\"court\"]).write_csv(\"./Data/StandardRAGRetrieval.csv\")"
   ]
  },
  {
   "cell_type": "code",
   "execution_count": null,
   "metadata": {},
   "outputs": [],
   "source": [
    "## Structured RAG\n",
    "df_pagerank = df.with_columns(\n",
    "    pl.col(\"Complaint\").map_elements(lambda x: get_retrieved_cases(x, .33, .33, .33)).alias(\"retrieved\")\n",
    ").unnest(\"retrieved\")\n",
    "\n",
    "df_pagerank.explode([\"cases\",\t\"text_sim\",\t\"pagerank\",\t\"court\"]).write_csv(\"./Data/PRRAGRetrieval.csv\")"
   ]
  },
  {
   "cell_type": "code",
   "execution_count": null,
   "metadata": {},
   "outputs": [],
   "source": []
  }
 ],
 "metadata": {
  "kernelspec": {
   "display_name": "Python 3",
   "language": "python",
   "name": "python3"
  },
  "language_info": {
   "codemirror_mode": {
    "name": "ipython",
    "version": 3
   },
   "file_extension": ".py",
   "mimetype": "text/x-python",
   "name": "python",
   "nbconvert_exporter": "python",
   "pygments_lexer": "ipython3",
   "version": "3.9.6"
  }
 },
 "nbformat": 4,
 "nbformat_minor": 2
}
