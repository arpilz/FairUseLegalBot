{
 "cells": [
  {
   "cell_type": "code",
   "execution_count": 19,
   "metadata": {},
   "outputs": [],
   "source": [
    "import os \n",
    "from dotenv import load_dotenv\n",
    "from sentence_transformers import SentenceTransformer\n",
    "from neo4j import GraphDatabase\n",
    "from typing import List\n",
    "import polars as pl\n",
    "\n",
    "URI = \"bolt://localhost:7687\"\n",
    "AUTH = (\"neo4j\", \"fairusecases\")\n",
    "\n",
    "load_dotenv()\n",
    "\n",
    "driver = GraphDatabase.driver(URI, auth=AUTH)"
   ]
  },
  {
   "cell_type": "code",
   "execution_count": 20,
   "metadata": {},
   "outputs": [],
   "source": [
    "example = \"\"\"\n",
    "Dr. Jane Doe, a medical educator, created a proprietary study guide titled Advanced Radiology Review, designed to help medical professionals prepare for board certification exams. The guide, compiled over several years, contained unique mnemonics, case studies, and explanatory diagrams. Doe made this study material available through her website and a subscription-based online course.\n",
    "\n",
    "On March 1, 2024, Doe discovered that Online Medical Academy, Inc. (OMA), a well-known YouTube-based medical education platform, was advertising an upcoming free live-streamed review course on their channel. Upon further investigation, she obtained an early-access copy of the PDF syllabus that OMA planned to provide to viewers. The document contained entire sections copied verbatim from Advanced Radiology Review without her permission.\n",
    "\"\"\""
   ]
  },
  {
   "cell_type": "code",
   "execution_count": 21,
   "metadata": {},
   "outputs": [],
   "source": [
    "class Custom_Embeddings:\n",
    "    def __init__(self):\n",
    "        self.model = SentenceTransformer('sentence-transformers/all-MiniLM-L6-v2', token = os.environ[\"HUGGING_FACE\"])\n",
    "    \n",
    "    def embed_documents(self, texts: List[str]) -> List[List[float]]:\n",
    "        return [self.model.encode(t)[0] for t in texts]\n",
    "            \n",
    "    def embed_query(self, query: str) -> List[float]:\n",
    "        return self.model.encode([query])[0]\n",
    "    \n",
    "mini_embedder = Custom_Embeddings()"
   ]
  },
  {
   "cell_type": "code",
   "execution_count": null,
   "metadata": {},
   "outputs": [],
   "source": [
    "def search_similar_texts(tx, query_text, top_k=5, embedding_model = mini_embedder):\n",
    "\n",
    "    query_embedding = embedding_model.embed_query(query_text)\n",
    "\n",
    "    query = \"\"\"\n",
    "    CALL db.index.vector.queryNodes('MiniEmbeddingIndex', 100, $query_embedding)\n",
    "    YIELD node, score\n",
    "    MATCH (node)-[:FROM]-()-[:OF]-(o:Opinion)-[:HAS_OPINION]-(c:Case)\n",
    "    RETURN DISTINCT c.WestLawCaseName as Case, o.Document AS text, score\n",
    "    ORDER BY score DESC\n",
    "    \"\"\"\n",
    "    \n",
    "    return tx.run(query, top_k = top_k, query_embedding = query_embedding).to_df()\n",
    "\n",
    "with driver.session() as session:\n",
    "    df = pl.from_pandas(session.execute_read(search_similar_texts, example)).group_by([\"Case\", \"text\"]).mean().sort(\"score\", descending = True).top_k(5, by = \"score\")\n",
    "\n",
    "\n"
   ]
  },
  {
   "cell_type": "code",
   "execution_count": null,
   "metadata": {},
   "outputs": [
    {
     "ename": "TypeError",
     "evalue": "top_k() missing 1 required keyword-only argument: 'by'",
     "output_type": "error",
     "traceback": [
      "\u001b[0;31m---------------------------------------------------------------------------\u001b[0m",
      "\u001b[0;31mTypeError\u001b[0m                                 Traceback (most recent call last)",
      "Cell \u001b[0;32mIn[40], line 1\u001b[0m\n\u001b[0;32m----> 1\u001b[0m \u001b[43mdf\u001b[49m\u001b[38;5;241;43m.\u001b[39;49m\u001b[43mgroup_by\u001b[49m\u001b[43m(\u001b[49m\u001b[43m[\u001b[49m\u001b[38;5;124;43m\"\u001b[39;49m\u001b[38;5;124;43mCase\u001b[39;49m\u001b[38;5;124;43m\"\u001b[39;49m\u001b[43m,\u001b[49m\u001b[43m \u001b[49m\u001b[38;5;124;43m\"\u001b[39;49m\u001b[38;5;124;43mtext\u001b[39;49m\u001b[38;5;124;43m\"\u001b[39;49m\u001b[43m]\u001b[49m\u001b[43m)\u001b[49m\u001b[38;5;241;43m.\u001b[39;49m\u001b[43mmean\u001b[49m\u001b[43m(\u001b[49m\u001b[43m)\u001b[49m\u001b[38;5;241;43m.\u001b[39;49m\u001b[43msort\u001b[49m\u001b[43m(\u001b[49m\u001b[38;5;124;43m\"\u001b[39;49m\u001b[38;5;124;43mscore\u001b[39;49m\u001b[38;5;124;43m\"\u001b[39;49m\u001b[43m,\u001b[49m\u001b[43m \u001b[49m\u001b[43mdescending\u001b[49m\u001b[43m \u001b[49m\u001b[38;5;241;43m=\u001b[39;49m\u001b[43m \u001b[49m\u001b[38;5;28;43;01mTrue\u001b[39;49;00m\u001b[43m)\u001b[49m\u001b[38;5;241;43m.\u001b[39;49m\u001b[43mtop_k\u001b[49m\u001b[43m(\u001b[49m\u001b[38;5;241;43m5\u001b[39;49m\u001b[43m)\u001b[49m\n",
      "\u001b[0;31mTypeError\u001b[0m: top_k() missing 1 required keyword-only argument: 'by'"
     ]
    }
   ],
   "source": [
    "df.group_by([\"Case\", \"text\"]).mean().sort(\"score\", descending = True).top_k()"
   ]
  },
  {
   "cell_type": "code",
   "execution_count": 36,
   "metadata": {},
   "outputs": [
    {
     "data": {
      "text/plain": [
       "['Weissmann v. Freeman',\n",
       " 'NXIVM Corp. v. Ross Institute',\n",
       " 'West Pub. Co. v. Mead Data Cent., Inc.',\n",
       " 'Cambridge University Press v. Patton',\n",
       " 'Weissmann v. Freeman',\n",
       " 'Healthcare Advocates, Inc. v. Harding, Earley, Follmer & Frailey',\n",
       " 'Peter Letterese And Associates, Inc. v. World Institute Of Scientology Enterprises',\n",
       " 'Compaq Computer Corp. v. Ergonome Inc.',\n",
       " 'Compaq Computer Corp. v. Ergonome Inc.',\n",
       " 'Compaq Computer Corp. v. Ergonome Inc.']"
      ]
     },
     "execution_count": 36,
     "metadata": {},
     "output_type": "execute_result"
    }
   ],
   "source": [
    "df[\"Case\"].to_list()[:10]"
   ]
  },
  {
   "cell_type": "code",
   "execution_count": null,
   "metadata": {},
   "outputs": [],
   "source": []
  }
 ],
 "metadata": {
  "kernelspec": {
   "display_name": "Python 3",
   "language": "python",
   "name": "python3"
  },
  "language_info": {
   "codemirror_mode": {
    "name": "ipython",
    "version": 3
   },
   "file_extension": ".py",
   "mimetype": "text/x-python",
   "name": "python",
   "nbconvert_exporter": "python",
   "pygments_lexer": "ipython3",
   "version": "3.9.6"
  }
 },
 "nbformat": 4,
 "nbformat_minor": 2
}
