{
 "cells": [
  {
   "cell_type": "code",
   "execution_count": 14,
   "metadata": {},
   "outputs": [],
   "source": [
    "import polars as pl"
   ]
  },
  {
   "cell_type": "code",
   "execution_count": 15,
   "metadata": {},
   "outputs": [],
   "source": [
    "similarity_weight = 0.3\n",
    "court_weight = 0.3\n",
    "case_weight = 0.4\n",
    "df = pl.read_csv(\"./cases.csv\")"
   ]
  },
  {
   "cell_type": "code",
   "execution_count": 16,
   "metadata": {},
   "outputs": [],
   "source": [
    "num_docs = 5"
   ]
  },
  {
   "cell_type": "code",
   "execution_count": null,
   "metadata": {},
   "outputs": [
    {
     "data": {
      "text/html": [
       "<div><style>\n",
       ".dataframe > thead > tr,\n",
       ".dataframe > tbody > tr {\n",
       "  text-align: right;\n",
       "  white-space: pre-wrap;\n",
       "}\n",
       "</style>\n",
       "<small>shape: (5, 8)</small><table border=\"1\" class=\"dataframe\"><thead><tr><th>Case</th><th>FiledDate</th><th>CourtName</th><th>score</th><th>Summary</th><th>CasePageRank</th><th>CourtPageRank</th><th>FinalScore</th></tr><tr><td>str</td><td>str</td><td>str</td><td>f64</td><td>str</td><td>f64</td><td>f64</td><td>f64</td></tr></thead><tbody><tr><td>&quot;Meeropol v. Ni…</td><td>&quot;1977/07/28&quot;</td><td>&quot;Court of Appea…</td><td>0.251665</td><td>&quot;This legal opi…</td><td>1.0</td><td>0.416667</td><td>0.6005</td></tr><tr><td>&quot;Disney Enterpr…</td><td>&quot;2019/03/06&quot;</td><td>&quot;Court of Appea…</td><td>0.751472</td><td>&quot;This legal opi…</td><td>0.037756</td><td>1.0</td><td>0.540544</td></tr><tr><td>&quot;Authors Guild …</td><td>&quot;2015/10/16&quot;</td><td>&quot;Court of Appea…</td><td>1.0</td><td>&quot;This legal opi…</td><td>0.26577</td><td>0.416667</td><td>0.531308</td></tr><tr><td>&quot;Cambridge Univ…</td><td>&quot;2014/10/17&quot;</td><td>&quot;Court of Appea…</td><td>0.550994</td><td>&quot;This legal opi…</td><td>0.044086</td><td>0.75</td><td>0.407933</td></tr><tr><td>&quot;De Fontbrune v…</td><td>&quot;2022/07/13&quot;</td><td>&quot;Court of Appea…</td><td>0.319278</td><td>&quot;## Summary of …</td><td>0.005074</td><td>1.0</td><td>0.397813</td></tr></tbody></table></div>"
      ],
      "text/plain": [
       "shape: (5, 8)\n",
       "┌────────────┬────────────┬────────────┬──────────┬────────────┬───────────┬───────────┬───────────┐\n",
       "│ Case       ┆ FiledDate  ┆ CourtName  ┆ score    ┆ Summary    ┆ CasePageR ┆ CourtPage ┆ FinalScor │\n",
       "│ ---        ┆ ---        ┆ ---        ┆ ---      ┆ ---        ┆ ank       ┆ Rank      ┆ e         │\n",
       "│ str        ┆ str        ┆ str        ┆ f64      ┆ str        ┆ ---       ┆ ---       ┆ ---       │\n",
       "│            ┆            ┆            ┆          ┆            ┆ f64       ┆ f64       ┆ f64       │\n",
       "╞════════════╪════════════╪════════════╪══════════╪════════════╪═══════════╪═══════════╪═══════════╡\n",
       "│ Meeropol   ┆ 1977/07/28 ┆ Court of   ┆ 0.251665 ┆ This legal ┆ 1.0       ┆ 0.416667  ┆ 0.6005    │\n",
       "│ v. Nizer   ┆            ┆ Appeals    ┆          ┆ opinion    ┆           ┆           ┆           │\n",
       "│            ┆            ┆ for the    ┆          ┆ addresses  ┆           ┆           ┆           │\n",
       "│            ┆            ┆ Second …   ┆          ┆ a m…       ┆           ┆           ┆           │\n",
       "│ Disney Ent ┆ 2019/03/06 ┆ Court of   ┆ 0.751472 ┆ This legal ┆ 0.037756  ┆ 1.0       ┆ 0.540544  │\n",
       "│ erprises,  ┆            ┆ Appeals    ┆          ┆ opinion    ┆           ┆           ┆           │\n",
       "│ Inc. v.    ┆            ┆ for the    ┆          ┆ concerns   ┆           ┆           ┆           │\n",
       "│ VidA…      ┆            ┆ Ninth C…   ┆          ┆ the …      ┆           ┆           ┆           │\n",
       "│ Authors    ┆ 2015/10/16 ┆ Court of   ┆ 1.0      ┆ This legal ┆ 0.26577   ┆ 0.416667  ┆ 0.531308  │\n",
       "│ Guild v.   ┆            ┆ Appeals    ┆          ┆ opinion    ┆           ┆           ┆           │\n",
       "│ Google,    ┆            ┆ for the    ┆          ┆ pertains   ┆           ┆           ┆           │\n",
       "│ Inc.       ┆            ┆ Second …   ┆          ┆ to t…      ┆           ┆           ┆           │\n",
       "│ Cambridge  ┆ 2014/10/17 ┆ Court of   ┆ 0.550994 ┆ This legal ┆ 0.044086  ┆ 0.75      ┆ 0.407933  │\n",
       "│ University ┆            ┆ Appeals    ┆          ┆ opinion,   ┆           ┆           ┆           │\n",
       "│ Press v.   ┆            ┆ for the    ┆          ┆ *Cambridge ┆           ┆           ┆           │\n",
       "│ Pa…        ┆            ┆ Elevent…   ┆          ┆ U…         ┆           ┆           ┆           │\n",
       "│ De         ┆ 2022/07/13 ┆ Court of   ┆ 0.319278 ┆ ## Summary ┆ 0.005074  ┆ 1.0       ┆ 0.397813  │\n",
       "│ Fontbrune  ┆            ┆ Appeals    ┆          ┆ of *Sicre  ┆           ┆           ┆           │\n",
       "│ v. Wofsy   ┆            ┆ for the    ┆          ┆ de         ┆           ┆           ┆           │\n",
       "│            ┆            ┆ Ninth C…   ┆          ┆ Fontbrun…  ┆           ┆           ┆           │\n",
       "└────────────┴────────────┴────────────┴──────────┴────────────┴───────────┴───────────┴───────────┘"
      ]
     },
     "execution_count": 17,
     "metadata": {},
     "output_type": "execute_result"
    }
   ],
   "source": [
    "df.with_columns(\n",
    "    (pl.col(\"score\") - pl.col(\"score\").min())/((pl.col(\"score\").max() - pl.col(\"score\").min())),\n",
    "    (pl.col(\"CasePageRank\") - pl.col(\"CasePageRank\").min())/((pl.col(\"CasePageRank\").max() - pl.col(\"CasePageRank\").min())),\n",
    "    (pl.col(\"CourtPageRank\") - pl.col(\"CourtPageRank\").min())/((pl.col(\"CourtPageRank\").max() - pl.col(\"CourtPageRank\").min()))\n",
    ").with_columns(\n",
    "    pl.struct([\"score\", \"CasePageRank\", \"CourtPageRank\"]).map_elements(lambda x: similarity_weight*x[\"score\"] + court_weight*x[\"CourtPageRank\"] + case_weight*x[\"CasePageRank\"]).alias(\"FinalScore\")\n",
    ").group_by([\"Case\", \"FiledDate\", \"CourtName\"]).max().sort(\"FinalScore\", descending = True).top_k(num_docs, by = \"FinalScore\")"
   ]
  },
  {
   "cell_type": "code",
   "execution_count": null,
   "metadata": {},
   "outputs": [],
   "source": []
  }
 ],
 "metadata": {
  "kernelspec": {
   "display_name": "Python 3",
   "language": "python",
   "name": "python3"
  },
  "language_info": {
   "codemirror_mode": {
    "name": "ipython",
    "version": 3
   },
   "file_extension": ".py",
   "mimetype": "text/x-python",
   "name": "python",
   "nbconvert_exporter": "python",
   "pygments_lexer": "ipython3",
   "version": "3.9.6"
  }
 },
 "nbformat": 4,
 "nbformat_minor": 2
}
