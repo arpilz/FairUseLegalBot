{
 "cells": [
  {
   "cell_type": "code",
   "execution_count": 1,
   "metadata": {},
   "outputs": [
    {
     "name": "stderr",
     "output_type": "stream",
     "text": [
      "/Users/jho/Library/Python/3.9/lib/python/site-packages/tqdm/auto.py:21: TqdmWarning: IProgress not found. Please update jupyter and ipywidgets. See https://ipywidgets.readthedocs.io/en/stable/user_install.html\n",
      "  from .autonotebook import tqdm as notebook_tqdm\n"
     ]
    }
   ],
   "source": [
    "from langchain_google_genai import ChatGoogleGenerativeAI\n",
    "from langchain_core.prompts import ChatPromptTemplate\n",
    "import os\n",
    "from neo4j import GraphDatabase\n",
    "\n",
    "os.environ[\"GOOGLE_API_KEY\"] = os.environ[\"GEMINI_API\"]\n",
    "\n",
    "# Initialize the LLM (ensure your API key is set in your environment)\n",
    "llm = ChatGoogleGenerativeAI(\n",
    "    model=\"gemini-2.0-flash\",\n",
    "    max_tokens=None,\n",
    "    timeout=None\n",
    ")"
   ]
  },
  {
   "cell_type": "code",
   "execution_count": 2,
   "metadata": {},
   "outputs": [],
   "source": [
    "fair_use_summary_prompt = ChatPromptTemplate.from_messages(\n",
    "    [\n",
    "        (\n",
    "            \"system\",\n",
    "            \"\"\"You are a legal analyst. Read the following legal opinion and summarize its significance with respect to its Fair Use ruling. Focus on the key points, include a general overview of the facts of the case and the context, as well as the implications regarding Fair Use.\\n\\n\"\"\",\n",
    "        ),\n",
    "        (\"human\", \"Here is the legal opinion: {legal_opinion}\"),\n",
    "    ]\n",
    ")\n",
    "\n",
    "fair_use_summary_chain = fair_use_summary_prompt | llm\n",
    "\n",
    "fair_use_relation_prompt = ChatPromptTemplate.from_messages(\n",
    "    [\n",
    "        (\n",
    "            \"system\",\n",
    "            \"You are a legal expert. Given the summary of a legal opinion regarding Fair Use and the description of an undecided case dispute, explain how the legal opinion relates to the dispute and what implications it might have on the case.\\n\\n  Evaluate the following legal opinion with respect to the four Fair Use factors. State whether the legal opinion provides support for Fair Use, is against Fair Use, or is not relevant for the Fair Use analysis.\"\n",
    "        ),\n",
    "        (\"human\", \"Summary: {summary}\\n\\nDispute: {dispute}\"),\n",
    "    ]\n",
    ")\n",
    "\n",
    "fair_use_relation_chain = fair_use_relation_prompt | llm\n"
   ]
  },
  {
   "cell_type": "code",
   "execution_count": 3,
   "metadata": {},
   "outputs": [],
   "source": [
    "def process_legal_opinion(legal_opinion: str, dispute: str):\n",
    "    \n",
    "    # 1. Summarize the legal opinion.\n",
    "    summary = fair_use_summary_chain.invoke(\n",
    "        {\n",
    "            \"legal_opinion\": legal_opinion\n",
    "        }\n",
    "    ).content\n",
    "    \n",
    "    # 2. Evaluation of the summary and dispute.\n",
    "    evaluation = fair_use_relation_chain.invoke( {\n",
    "            \"summary\": summary,\n",
    "            \"dispute\": dispute\n",
    "        }\n",
    "    ).content\n",
    "    \n",
    "    return {\n",
    "        \"summary\": summary,\n",
    "        \"evaluation\": evaluation\n",
    "    }\n"
   ]
  },
  {
   "cell_type": "code",
   "execution_count": 5,
   "metadata": {},
   "outputs": [],
   "source": [
    "URI = \"bolt://localhost:7687\"\n",
    "AUTH = (\"neo4j\", \"fairusecases\")\n",
    "\n",
    "def get_opinions(tx):\n",
    "    \n",
    "    results = tx.run(\"\"\"\n",
    "        MATCH (o:Opinion)-[]-(c:Case)\n",
    "        RETURN c.WestLawCaseName AS CaseName, o.Document AS Document\n",
    "        \"\"\"\n",
    "    )\n",
    "         \n",
    "    return results.to_df()\n",
    "\n",
    "\n",
    "with GraphDatabase.driver(URI, auth=AUTH) as driver:\n",
    "    with driver.session(database=\"neo4j\") as session:\n",
    "            opinions = session.execute_read(get_opinions)"
   ]
  },
  {
   "cell_type": "code",
   "execution_count": 10,
   "metadata": {},
   "outputs": [],
   "source": [
    "dispute = \"\"\"\n",
    "A YouTube channel called NerdVerse creates a whimsical animated short that merges the worlds of Dr. Seuss and Harry Potter. The video, titled Oh, the Spells You’ll Cast!, presents a rhyming, Seussian retelling of Harry Potter’s adventures with visuals closely resembling the distinctive Seuss style.\n",
    "\n",
    "The animation quickly goes viral, attracting millions of views and sparking discussions about nostalgia and fan creativity. The creators of NerdVerse argue that the mashup is a love letter to both franchises and was made purely for fun.\n",
    "\n",
    "However, Seuss Studios, which owns the rights to Dr. Seuss’s works, files a copyright claim, stating that the video borrows too much from their original artistic style and writing without permission.\n",
    "\"\"\""
   ]
  },
  {
   "cell_type": "code",
   "execution_count": 11,
   "metadata": {},
   "outputs": [],
   "source": [
    "document = opinions[\"Document\"][0]"
   ]
  },
  {
   "cell_type": "code",
   "execution_count": 12,
   "metadata": {},
   "outputs": [],
   "source": [
    "output = process_legal_opinion(document, dispute)"
   ]
  },
  {
   "cell_type": "code",
   "execution_count": 13,
   "metadata": {},
   "outputs": [
    {
     "data": {
      "text/plain": [
       "{'summary': 'This legal opinion, *Peter Letterese and Associates, Inc. v. World Institute of Scientology Enterprises, International*, centers on a copyright infringement dispute concerning the book *Big League Sales Closing Techniques* by Les Dane. Peter Letterese & Associates (PL&A), the copyright licensee, sued three Church of Scientology-affiliated entities, arguing that their instructional course materials infringed on the book\\'s copyright.\\n\\n**Facts and Context:**\\n\\n*   Les Dane\\'s book was used by the Church of Scientology to train registrars (those who sell Scientology books and services).\\n*   The Church developed course materials, including \"checksheets\" and \"drill sheets,\" that incorporated elements of the book.\\n*   PL&A acquired the exclusive rights to Dane\\'s works and sued the Church-affiliated entities for copyright infringement.\\n*   The district court initially ruled in favor of the defendants, citing fair use and laches (unreasonable delay in pursuing a legal claim).\\n\\n**Fair Use Ruling Significance:**\\n\\nThe Eleventh Circuit Court of Appeals partially reversed the district court\\'s ruling on fair use, providing a detailed analysis of the four statutory factors and clarifying several key points:\\n\\n1.  **Rejection of \"Consent\" as a Fair Use Factor:** The court explicitly rejected the district court\\'s creation of a \"consent\" factor in the fair use analysis. The Court found that the lower court erred by considering Les Dane\\'s historical consent to the use of his book as a factor that could legitimize the continued use after PL&A obtained the copyright, and after Les Dane\\'s death terminated his contingent interest in the renewal.\\n2.  **Purpose and Character of Use:** The court found that the Church\\'s use was commercial (WISE sold course packs, and CSI obtained promissory notes from staff members) and not transformative. The course materials essentially repackaged the book\\'s content for training purposes, lacking new expression, meaning, or message.\\n3.  **Nature of Copyrighted Work:** The book was deemed to be closer to a factual work, but still contained original and creative expression that was protected. The court also found that the withdrawal of the book from the market by PL&A did not automatically render it an out-of-print work, and that there was a potential for harm to the copyright owner\\'s market due to the deliberate withholding of the book from the market.\\n4.  **Amount and Substantiality of Portion Used:** The court emphasized that the amount taken must be measured against the copyrighted work as a whole, not the infringing work. The court also found that the amount taken from the book was substantial enough to create a genuine issue of material fact.\\n5.  **Effect on the Market:** The court rejected a narrow interpretation of PL&A\\'s stipulation that there was no existing or potential market for the book. The court found that the WISE sales course likely had a market substitution effect, while the CSI courses did not, as the CSI courses were based on Hubbard\\'s writings, and thus PL&A\\'s derivative works would not be market substitutes for CSI\\'s courses.\\n\\n**Outcome:**\\n\\n*   The court affirmed the grant of summary judgment for the defendants on Counts 2 and 4, finding that the courses as a whole were not derivative works.\\n*   The court reversed the grant of summary judgment for the defendants on Count 1, finding that there was a genuine issue of material fact as to whether the WISE Sales Course materials were substantially similar to the book, and the court further found that the defendants were not entitled to the defense of fair use, as the WISE Sales Course likely had a market substitution effect.\\n*   The court affirmed the grant of summary judgment for the defendants on Count 3, finding that there was a genuine issue of material fact as to whether the CSI courses were substantially similar to the book, but the court further found that the defendants were entitled to the defense of fair use, as the CSI courses did not have a market substitution effect.\\n*   The court found that laches served as a bar only to the recovery of retrospective damages, not to prospective relief.\\n\\n**Implications:**\\n\\n*   **Clarification of Fair Use Factors:** The opinion provides a detailed analysis of the fair use factors, offering guidance on how to weigh commercialism, transformativeness, and market effect.\\n*   **Importance of Market Substitution:** The ruling emphasizes that the key consideration in the market effect analysis is whether the infringing use substitutes for the original work or its potential derivatives.\\n*   **Limited Application of Laches in Copyright Cases:** The court established a high bar for the laches defense in copyright cases, particularly regarding prospective relief.\\n*   **Protection of Copyright Owner\\'s Right to Control Derivative Works:** The opinion underscores the importance of the copyright owner\\'s exclusive right to control derivative works.\\n\\nIn essence, the *Letterese* case serves as a significant precedent in the Eleventh Circuit for understanding the nuances of the fair use doctrine in copyright infringement cases, particularly in the context of educational or training materials. It clarifies the factors to be considered and reinforces the protection afforded to copyright owners in controlling the exploitation of their works.',\n",
       " 'evaluation': 'Okay, let\\'s analyze how the *Letterese* legal opinion might impact the *NerdVerse* case, and then evaluate the opinion\\'s relevance to the fair use factors.\\n\\n**How the *Letterese* Opinion Relates to the *NerdVerse* Dispute:**\\n\\nThe *Letterese* opinion provides a framework for analyzing whether *NerdVerse*\\'s use of Dr. Seuss\\'s style and characters constitutes fair use. Here\\'s how each aspect of the *Letterese* case relates:\\n\\n1.  **Purpose and Character of Use:**\\n    *   *Letterese*:  The Eleventh Circuit found the Church of Scientology\\'s use to be commercial because they sold course packs and obtained promissory notes. The court found the course materials were not transformative.\\n    *   *NerdVerse*:  *NerdVerse* argues their use is non-commercial (\"purely for fun\"). However, even if *NerdVerse* isn\\'t *directly* selling the video, the channel is likely monetized through ads, and the video\\'s popularity could increase viewership and revenue for the channel. This *indirect* commercial benefit could weigh against fair use, as in *Letterese*. The key question is whether *NerdVerse*\\'s video is \"transformative.\" The *Letterese* opinion stresses that simply repackaging content is not transformative.  *NerdVerse* would need to demonstrate that its \"Seussian\" retelling of Harry Potter adds new expression, meaning, or message beyond simply combining the two existing works. If it\\'s just a mashup, it\\'s less likely to be considered transformative.\\n\\n2.  **Nature of the Copyrighted Work:**\\n    *   *Letterese*:  The court acknowledged that *Big League Sales Closing Techniques* contained original and creative expression.\\n    *   *NerdVerse*: Dr. Seuss\\'s works are highly creative and original. This factor generally weighs *against* fair use, as more creative works are given greater copyright protection.\\n\\n3.  **Amount and Substantiality of the Portion Used:**\\n    *   *Letterese*: The court emphasized that the amount taken must be measured against the copyrighted work as a whole.\\n    *   *NerdVerse*: This is a crucial point. Even if *NerdVerse* only uses a small *percentage* of Dr. Seuss\\'s *total* body of work, the use of the distinctive Seuss style (rhyming, illustrations, character designs) could be considered a *substantial* taking of the most recognizable and valuable elements of Seuss\\'s creative expression. The court in *Letterese* found that the amount taken from the book was substantial enough to create a genuine issue of material fact, which could also be the case here.\\n\\n4.  **Effect on the Market:**\\n    *   *Letterese*: The court focused on whether the infringing use acts as a market substitute for the original work or its potential derivatives.\\n    *   *NerdVerse*:  This is where *NerdVerse* might have a stronger argument. Is *Oh, the Spells You\\'ll Cast!* a substitute for Dr. Seuss books? Probably not directly. However, Seuss Studios could argue that they have the right to create derivative works based on their style, and *NerdVerse*\\'s video is infringing on their potential market for Seuss-style adaptations of other stories. This is similar to the *Letterese* court\\'s concern about the copyright owner\\'s right to control derivative works. The court found that the WISE Sales Course likely had a market substitution effect, while the CSI courses did not, as the CSI courses were based on Hubbard\\'s writings, and thus PL&A\\'s derivative works would not be market substitutes for CSI\\'s courses.\\n\\n**Implications for the *NerdVerse* Case:**\\n\\nThe *Letterese* opinion suggests that the *NerdVerse* case is not a clear-cut instance of fair use. The commercial aspect (even indirect), the highly creative nature of Dr. Seuss\\'s works, and the potential for market harm (derivative works) all weigh against *NerdVerse*. *NerdVerse*\\'s strongest argument would be that their work is transformative, adding something new and distinct beyond simply combining existing works. However, based on the *Letterese* court\\'s definition of \"transformative,\" this argument might be difficult to sustain.\\n\\n**Evaluation of the *Letterese* Legal Opinion with Respect to the Four Fair Use Factors:**\\n\\nHere\\'s an evaluation of how the *Letterese* opinion affects each fair use factor:\\n\\n*   **Factor 1: Purpose and Character of the Use:** *Against* Fair Use. The *Letterese* opinion emphasizes the importance of transformativeness and the negative impact of commercial use. The court\\'s focus on whether the infringing work adds new expression, meaning, or message, and its rejection of a \"consent\" factor, makes it more difficult to claim fair use based on good intentions or past practices.\\n*   **Factor 2: Nature of the Copyrighted Work:** *Against* Fair Use. The court acknowledged that *Big League Sales Closing Techniques* contained original and creative expression.\\n*   **Factor 3: Amount and Substantiality of the Portion Used:** *Against* Fair Use. The *Letterese* opinion highlights that even taking a seemingly small *percentage* can be a substantial taking if it involves the most valuable and recognizable elements of the copyrighted work.\\n*   **Factor 4: Effect on the Market:** *Against* Fair Use. The *Letterese* opinion stresses the importance of considering potential markets for derivative works. This broadens the scope of market harm and makes it harder to argue that an infringing use has no negative impact.\\n\\n**Overall:**\\n\\nThe *Letterese* legal opinion leans *against* fair use. It provides a stricter interpretation of the fair use factors, particularly regarding transformativeness, commercialism, and market effect. It underscores the importance of protecting copyright owners\\' rights to control derivative works and exploit their creations. This opinion would likely make it more difficult for *NerdVerse* to successfully argue fair use in the hypothetical lawsuit with Seuss Studios.'}"
      ]
     },
     "execution_count": 13,
     "metadata": {},
     "output_type": "execute_result"
    }
   ],
   "source": [
    "output"
   ]
  },
  {
   "cell_type": "code",
   "execution_count": null,
   "metadata": {},
   "outputs": [],
   "source": []
  }
 ],
 "metadata": {
  "kernelspec": {
   "display_name": "Python 3",
   "language": "python",
   "name": "python3"
  },
  "language_info": {
   "codemirror_mode": {
    "name": "ipython",
    "version": 3
   },
   "file_extension": ".py",
   "mimetype": "text/x-python",
   "name": "python",
   "nbconvert_exporter": "python",
   "pygments_lexer": "ipython3",
   "version": "3.9.6"
  }
 },
 "nbformat": 4,
 "nbformat_minor": 2
}
